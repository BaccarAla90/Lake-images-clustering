{
 "cells": [
  {
   "cell_type": "markdown",
   "id": "29e75570",
   "metadata": {},
   "source": [
    "# Importing libraries"
   ]
  },
  {
   "cell_type": "code",
   "execution_count": 79,
   "id": "92767180",
   "metadata": {},
   "outputs": [],
   "source": [
    "%matplotlib inline\n",
    "\n",
    "import time\n",
    "import os, os.path\n",
    "import random\n",
    "import cv2\n",
    "import glob\n",
    "import keras\n",
    "import tensorflow as tf\n",
    "import matplotlib\n",
    "import matplotlib.pyplot as plt\n",
    "from sklearn.model_selection import train_test_split\n",
    "from sklearn.cluster import KMeans\n",
    "from sklearn.mixture import GaussianMixture\n",
    "from sklearn.decomposition import PCA\n",
    "from tensorflow.keras.preprocessing.image import ImageDataGenerator\n",
    "\n",
    "import pandas as pd\n",
    "import numpy as np"
   ]
  },
  {
   "cell_type": "markdown",
   "id": "5eaae5f6",
   "metadata": {},
   "source": [
    "# DataSet information\n",
    "Our DataSet is composed of lake images, which essentially represents the borders of the lake, and each have a different borders from the other based on a climaic conditions, and they are in the following format: C+classNumber+'.'+className"
   ]
  },
  {
   "cell_type": "code",
   "execution_count": 302,
   "id": "cee05636",
   "metadata": {},
   "outputs": [],
   "source": [
    "# directory where images are stored\n",
    "DIR = \"./lake_img\"\n",
    "\n",
    "def dataset_stats():\n",
    "    \n",
    "    # This is an array with the letters available.\n",
    "    # If you add another animal later, you will need to structure its images in the same way\n",
    "    # and add its letter to this array\n",
    "    lake_characters = ['V']\n",
    "    \n",
    "    # dictionary where we will store the stats\n",
    "    stats = []\n",
    "    \n",
    "    for lake in lake_characters:\n",
    "        # get a list of subdirectories that start with this character\n",
    "        directory_list = sorted(glob.glob(\"{}/[{}]*\".format(DIR, lake)))\n",
    "    \n",
    "        for sub_directory in directory_list:\n",
    "            file_names = [file for file in os.listdir(sub_directory)]\n",
    "            file_count = len(file_names)\n",
    "            sub_directory_name = os.path.basename(sub_directory)\n",
    "            stats.append({ \"Code\": sub_directory_name[:sub_directory_name.find('-')],\n",
    "                          \"Image count\": file_count, \n",
    "                            \"Folder name\": os.path.basename(sub_directory),\n",
    "                          \n",
    "                            \"File names\": file_names})\n",
    "    \n",
    "    \n",
    "    df = pd.DataFrame(stats)\n",
    "    \n",
    "    return df"
   ]
  },
  {
   "cell_type": "code",
   "execution_count": 303,
   "id": "5a1bfd8f",
   "metadata": {},
   "outputs": [
    {
     "data": {
      "text/html": [
       "<div>\n",
       "<style scoped>\n",
       "    .dataframe tbody tr th:only-of-type {\n",
       "        vertical-align: middle;\n",
       "    }\n",
       "\n",
       "    .dataframe tbody tr th {\n",
       "        vertical-align: top;\n",
       "    }\n",
       "\n",
       "    .dataframe thead th {\n",
       "        text-align: right;\n",
       "    }\n",
       "</style>\n",
       "<table border=\"1\" class=\"dataframe\">\n",
       "  <thead>\n",
       "    <tr style=\"text-align: right;\">\n",
       "      <th></th>\n",
       "      <th>Folder name</th>\n",
       "      <th>Image count</th>\n",
       "    </tr>\n",
       "    <tr>\n",
       "      <th>Code</th>\n",
       "      <th></th>\n",
       "      <th></th>\n",
       "    </tr>\n",
       "  </thead>\n",
       "  <tbody>\n",
       "    <tr>\n",
       "      <th>V1</th>\n",
       "      <td>V1-high</td>\n",
       "      <td>20</td>\n",
       "    </tr>\n",
       "    <tr>\n",
       "      <th>V2</th>\n",
       "      <td>V2-meduim</td>\n",
       "      <td>15</td>\n",
       "    </tr>\n",
       "    <tr>\n",
       "      <th>V3</th>\n",
       "      <td>V3-low</td>\n",
       "      <td>16</td>\n",
       "    </tr>\n",
       "  </tbody>\n",
       "</table>\n",
       "</div>"
      ],
      "text/plain": [
       "     Folder name  Image count\n",
       "Code                         \n",
       "V1       V1-high           20\n",
       "V2     V2-meduim           15\n",
       "V3        V3-low           16"
      ]
     },
     "execution_count": 303,
     "metadata": {},
     "output_type": "execute_result"
    }
   ],
   "source": [
    "# Show codes with their folder names and image counts\n",
    "dataset = dataset_stats().set_index(\"Code\")\n",
    "dataset[[\"Folder name\", \"Image count\"]]"
   ]
  },
  {
   "cell_type": "code",
   "execution_count": 304,
   "id": "c47a741f",
   "metadata": {},
   "outputs": [
    {
     "data": {
      "text/html": [
       "<div>\n",
       "<style scoped>\n",
       "    .dataframe tbody tr th:only-of-type {\n",
       "        vertical-align: middle;\n",
       "    }\n",
       "\n",
       "    .dataframe tbody tr th {\n",
       "        vertical-align: top;\n",
       "    }\n",
       "\n",
       "    .dataframe thead th {\n",
       "        text-align: right;\n",
       "    }\n",
       "</style>\n",
       "<table border=\"1\" class=\"dataframe\">\n",
       "  <thead>\n",
       "    <tr style=\"text-align: right;\">\n",
       "      <th></th>\n",
       "      <th>Code</th>\n",
       "      <th>Image count</th>\n",
       "      <th>Folder name</th>\n",
       "      <th>File names</th>\n",
       "    </tr>\n",
       "  </thead>\n",
       "  <tbody>\n",
       "    <tr>\n",
       "      <th>0</th>\n",
       "      <td>V1</td>\n",
       "      <td>20</td>\n",
       "      <td>V1-high</td>\n",
       "      <td>[high_11_2014.jpg, high_12_2007.jpg, high_12_2...</td>\n",
       "    </tr>\n",
       "    <tr>\n",
       "      <th>1</th>\n",
       "      <td>V2</td>\n",
       "      <td>15</td>\n",
       "      <td>V2-meduim</td>\n",
       "      <td>[meduim_12_2004.jpg, meduim_12_2011.jpg, medui...</td>\n",
       "    </tr>\n",
       "    <tr>\n",
       "      <th>2</th>\n",
       "      <td>V3</td>\n",
       "      <td>16</td>\n",
       "      <td>V3-low</td>\n",
       "      <td>[low_10_2016.jpg, low_11_2016.jpg, low_12_2000...</td>\n",
       "    </tr>\n",
       "  </tbody>\n",
       "</table>\n",
       "</div>"
      ],
      "text/plain": [
       "  Code  Image count Folder name  \\\n",
       "0   V1           20     V1-high   \n",
       "1   V2           15   V2-meduim   \n",
       "2   V3           16      V3-low   \n",
       "\n",
       "                                          File names  \n",
       "0  [high_11_2014.jpg, high_12_2007.jpg, high_12_2...  \n",
       "1  [meduim_12_2004.jpg, meduim_12_2011.jpg, medui...  \n",
       "2  [low_10_2016.jpg, low_11_2016.jpg, low_12_2000...  "
      ]
     },
     "execution_count": 304,
     "metadata": {},
     "output_type": "execute_result"
    }
   ],
   "source": [
    "dataset_stats()"
   ]
  },
  {
   "cell_type": "markdown",
   "id": "3ed3b22b",
   "metadata": {},
   "source": [
    "# Loading images \n",
    "Loaded images are resized to 224 x 224 before storing them in our array since this is the size preferred by VGG19 which we will be using later."
   ]
  },
  {
   "cell_type": "code",
   "execution_count": 305,
   "id": "448ad089",
   "metadata": {},
   "outputs": [],
   "source": [
    "def load_images(codes):\n",
    "    \n",
    "    # Define empty arrays where we will store our images and labels\n",
    "    images = []\n",
    "    labels = []\n",
    "    \n",
    "    for code in codes:\n",
    "        # get the folder name for this code\n",
    "        folder_name = dataset.loc[code][\"Folder name\"]\n",
    "        \n",
    "        for file in dataset.loc[code][\"File names\"]:                 \n",
    "            # build file path\n",
    "            file_path = os.path.join(str(DIR),str(folder_name),str(file))\n",
    "            \n",
    "            # Read the image\n",
    "            image = cv2.imread(file_path)\n",
    "\n",
    "            # Resize it to 224 x 224\n",
    "            image = cv2.resize(image, (224,224))\n",
    "\n",
    "            # Convert it from BGR to RGB so we can plot them later (because openCV reads images as BGR)\n",
    "            image = cv2.cvtColor(image, cv2.COLOR_BGR2RGB)\n",
    "\n",
    "            # Now we add it to our array\n",
    "            images.append(image)\n",
    "            labels.append(code)\n",
    "\n",
    "    return images, labels"
   ]
  },
  {
   "cell_type": "code",
   "execution_count": 306,
   "id": "d212e881",
   "metadata": {},
   "outputs": [],
   "source": [
    "codes = [\"V1\",\"V2\",\"V3\"]\n",
    "images, labels = load_images(codes)"
   ]
  },
  {
   "cell_type": "markdown",
   "id": "85beb7eb",
   "metadata": {},
   "source": [
    "# Displaying images"
   ]
  },
  {
   "cell_type": "code",
   "execution_count": 85,
   "id": "7b1e6cc1",
   "metadata": {},
   "outputs": [],
   "source": [
    "def show_random_images(images, labels, number_of_images_to_show=2):\n",
    "\n",
    "    for code in list(set(labels)):\n",
    "\n",
    "        indicies = [i for i, label in enumerate(labels) if label == code]\n",
    "        random_indicies = [random.choice(indicies) for i in range(number_of_images_to_show)]\n",
    "        figure, axis = plt.subplots(1, number_of_images_to_show)\n",
    "\n",
    "        print(\"{} random images for code {}\".format(number_of_images_to_show, code))\n",
    "\n",
    "        for image in range(number_of_images_to_show):\n",
    "            axis[image].imshow(images[random_indicies[image]])\n",
    "        plt.show()"
   ]
  },
  {
   "cell_type": "code",
   "execution_count": 86,
   "id": "a6e8e3e0",
   "metadata": {},
   "outputs": [
    {
     "name": "stdout",
     "output_type": "stream",
     "text": [
      "2 random images for code V3\n"
     ]
    },
    {
     "data": {
      "image/png": "[encoded data removed]",
      "text/plain": [
       "<Figure size 432x288 with 2 Axes>"
      ]
     },
     "metadata": {
      "needs_background": "light"
     },
     "output_type": "display_data"
    },
    {
     "name": "stdout",
     "output_type": "stream",
     "text": [
      "2 random images for code V2\n"
     ]
    },
    {
     "data": {
      "image/png": "[encoded data removed]",
      "text/plain": [
       "<Figure size 432x288 with 2 Axes>"
      ]
     },
     "metadata": {
      "needs_background": "light"
     },
     "output_type": "display_data"
    },
    {
     "name": "stdout",
     "output_type": "stream",
     "text": [
      "2 random images for code V1\n"
     ]
    },
    {
     "data": {
      "image/png": "[encoded data removed]",
      "text/plain": [
       "<Figure size 432x288 with 2 Axes>"
      ]
     },
     "metadata": {
      "needs_background": "light"
     },
     "output_type": "display_data"
    }
   ],
   "source": [
    "show_random_images(images, labels)"
   ]
  },
  {
   "cell_type": "markdown",
   "id": "8810fd94",
   "metadata": {},
   "source": [
    "# Normalizing the images"
   ]
  },
  {
   "cell_type": "code",
   "execution_count": 87,
   "id": "3d096b7e",
   "metadata": {},
   "outputs": [],
   "source": [
    "def normalise_images(images, labels):\n",
    "\n",
    "    # Convert to numpy arrays\n",
    "    images = np.array(images, dtype=np.float32)\n",
    "    labels = np.array(labels)\n",
    "\n",
    "    # Normalise the images\n",
    "    images /= 255\n",
    "    \n",
    "    return images, labels"
   ]
  },
  {
   "cell_type": "code",
   "execution_count": 88,
   "id": "52567893",
   "metadata": {},
   "outputs": [],
   "source": [
    "images, labels = normalise_images(images, labels)"
   ]
  },
  {
   "cell_type": "markdown",
   "id": "b02f7672",
   "metadata": {},
   "source": [
    "# Spliting data "
   ]
  },
  {
   "cell_type": "code",
   "execution_count": 89,
   "id": "16ab9538",
   "metadata": {},
   "outputs": [],
   "source": [
    "def shuffle_data(images, labels):\n",
    "\n",
    "    # Set aside the testing data. We won't touch these until the very end.\n",
    "    X_train, X_test, y_train, y_test = train_test_split(images, labels, test_size=0.1, random_state=728)\n",
    "    \n",
    "    return X_train, y_train"
   ]
  },
  {
   "cell_type": "code",
   "execution_count": 90,
   "id": "cd635f4e",
   "metadata": {},
   "outputs": [],
   "source": [
    "X_train, y_train = shuffle_data(images, labels)"
   ]
  },
  {
   "cell_type": "markdown",
   "id": "04b3c13a",
   "metadata": {},
   "source": [
    "# Data augmentation"
   ]
  },
  {
   "cell_type": "markdown",
   "id": "5e08672b",
   "metadata": {},
   "source": [
    "## Random rotation"
   ]
  },
  {
   "cell_type": "code",
   "execution_count": 91,
   "id": "6a457126",
   "metadata": {},
   "outputs": [
    {
     "data": {
      "image/png": "[encoded data removed]",
      "text/plain": [
       "<Figure size 432x288 with 9 Axes>"
      ]
     },
     "metadata": {
      "needs_background": "light"
     },
     "output_type": "display_data"
    }
   ],
   "source": [
    "from keras.datasets import mnist\n",
    "from keras.preprocessing.image import ImageDataGenerator\n",
    "from matplotlib import pyplot\n",
    "from keras import backend as K\n",
    "\n",
    "\n",
    "# convert from int to float\n",
    "X_train = X_train.astype('float32')\n",
    "\n",
    "# define data preparation\n",
    "datagen = ImageDataGenerator(rotation_range=90)\n",
    "# fit parameters from data\n",
    "datagen.fit(X_train)\n",
    "# configure batch size and retrieve one batch of images\n",
    "for X_batch, y_batch in datagen.flow(X_train, y_train):\n",
    "    # create a grid of 3x3 images\n",
    "    for i in range(0, 9):\n",
    "        pyplot.subplot(330 + 1 + i)\n",
    "        pyplot.imshow(X_batch[i], cmap=pyplot.get_cmap('gray'))\n",
    "    # show the plot\n",
    "    pyplot.show()\n",
    "    break"
   ]
  },
  {
   "cell_type": "markdown",
   "id": "7738c75d",
   "metadata": {},
   "source": [
    "## Random shifts"
   ]
  },
  {
   "cell_type": "code",
   "execution_count": 92,
   "id": "6b545647",
   "metadata": {},
   "outputs": [
    {
     "data": {
      "image/png": "[encoded data removed]",
      "text/plain": [
       "<Figure size 432x288 with 9 Axes>"
      ]
     },
     "metadata": {
      "needs_background": "light"
     },
     "output_type": "display_data"
    }
   ],
   "source": [
    "# Random Shifts\n",
    "from keras.datasets import mnist\n",
    "from keras.preprocessing.image import ImageDataGenerator\n",
    "from matplotlib import pyplot\n",
    "shift = 0.2\n",
    "datagen = ImageDataGenerator(width_shift_range=shift, height_shift_range=shift)\n",
    "# fit parameters from data\n",
    "datagen.fit(X_train)\n",
    "# configure batch size and retrieve one batch of images\n",
    "for X_batch, y_batch in datagen.flow(X_train, y_train, batch_size=9):\n",
    "    # create a grid of 3x3 images\n",
    "    for i in range(0, 9):\n",
    "        pyplot.subplot(330 + 1 + i)\n",
    "        pyplot.imshow(X_batch[i], cmap=pyplot.get_cmap('gray'))\n",
    "    # show the plot\n",
    "    pyplot.show()\n",
    "    break"
   ]
  },
  {
   "cell_type": "markdown",
   "id": "362eac44",
   "metadata": {},
   "source": [
    "## Random flips"
   ]
  },
  {
   "cell_type": "code",
   "execution_count": 93,
   "id": "fd9c0aad",
   "metadata": {},
   "outputs": [
    {
     "data": {
      "image/png": "[encoded data removed]",
      "text/plain": [
       "<Figure size 432x288 with 9 Axes>"
      ]
     },
     "metadata": {
      "needs_background": "light"
     },
     "output_type": "display_data"
    }
   ],
   "source": [
    "# Random flips\n",
    "from keras.datasets import mnist\n",
    "from keras.preprocessing.image import ImageDataGenerator\n",
    "from matplotlib import pyplot\n",
    "\n",
    "datagen = ImageDataGenerator(horizontal_flip=True, vertical_flip=True)\n",
    "# fit parameters from data\n",
    "datagen.fit(X_train)\n",
    "# configure batch size and retrieve one batch of images\n",
    "for X_batch, y_batch in datagen.flow(X_train, y_train, batch_size=9):\n",
    "    # create a grid of 3x3 images\n",
    "    for i in range(0, 9):\n",
    "        pyplot.subplot(330 + 1 + i)\n",
    "        pyplot.imshow(X_batch[i], cmap=pyplot.get_cmap('gray'))\n",
    "    # show the plot\n",
    "    pyplot.show()\n",
    "    break"
   ]
  },
  {
   "cell_type": "markdown",
   "id": "c49b9b51",
   "metadata": {},
   "source": [
    "# Load pre-trained covnet models\n",
    "## VGG16, VG19, ResNet50\n",
    "We'll now load up the keras models with the imagenet weights. We'll remove the top dense layers, since we won't need to classify things here, and we just want these encoded features from the images."
   ]
  },
  {
   "cell_type": "code",
   "execution_count": 94,
   "id": "4d161106",
   "metadata": {},
   "outputs": [],
   "source": [
    "# Load the models with ImageNet weights\n",
    "\n",
    "vgg16_model = tf.keras.applications.vgg16.VGG16(include_top=False, weights=\"imagenet\", input_shape=(224,224,3))\n",
    "\n",
    "vgg19_model = tf.keras.applications.vgg19.VGG19(include_top=False, weights=\"imagenet\", input_shape=(224,224,3))\n",
    "\n",
    "resnet50_model = tf.keras.applications.resnet50.ResNet50(include_top=False, weights=\"imagenet\", input_shape=(224,224,3))"
   ]
  },
  {
   "cell_type": "markdown",
   "id": "baa85a27",
   "metadata": {},
   "source": [
    "The covnet models will give us 3D vectors that represent the image. We need to flatten these for the clustering algorithms to start working with them."
   ]
  },
  {
   "cell_type": "code",
   "execution_count": 95,
   "id": "64e667c1",
   "metadata": {},
   "outputs": [],
   "source": [
    "def covnet_transform(covnet_model, raw_images):\n",
    "\n",
    "    # Pass our training data through the network\n",
    "    pred = covnet_model.predict(raw_images)\n",
    "\n",
    "    # Flatten the array\n",
    "    flat = pred.reshape(raw_images.shape[0], -1)\n",
    "    \n",
    "    return flat"
   ]
  },
  {
   "cell_type": "code",
   "execution_count": 96,
   "id": "80e0b4de",
   "metadata": {},
   "outputs": [
    {
     "name": "stdout",
     "output_type": "stream",
     "text": [
      "2/2 [==============================] - 4s 1s/step\n",
      "VGG16 flattened output has 25088 features\n",
      "2/2 [==============================] - 5s 1s/step\n",
      "VGG19 flattened output has 25088 features\n",
      "2/2 [==============================] - 3s 749ms/step\n",
      "ResNet50 flattened output has 100352 features\n"
     ]
    }
   ],
   "source": [
    "vgg16_output = covnet_transform(vgg16_model, X_train)\n",
    "print(\"VGG16 flattened output has {} features\".format(vgg16_output.shape[1]))\n",
    "\n",
    "vgg19_output = covnet_transform(vgg19_model, X_train)\n",
    "print(\"VGG19 flattened output has {} features\".format(vgg19_output.shape[1]))\n",
    "\n",
    "resnet50_output = covnet_transform(resnet50_model, X_train)\n",
    "print(\"ResNet50 flattened output has {} features\".format(resnet50_output.shape[1]))"
   ]
  },
  {
   "cell_type": "markdown",
   "id": "fe3ffabe",
   "metadata": {},
   "source": [
    "# PCA\n",
    "We will look to PCA for dimensionality reduction, so that our clustering algorithms can cope."
   ]
  },
  {
   "cell_type": "code",
   "execution_count": 97,
   "id": "ca4df85e",
   "metadata": {},
   "outputs": [],
   "source": [
    "# Function that creates a PCA instance, fits it to the data and returns the instance\n",
    "def create_fit_PCA(data, n_components=None):\n",
    "    \n",
    "    p = PCA(n_components=n_components, random_state=728)\n",
    "    p.fit(data)\n",
    "    \n",
    "    return p\n",
    "    "
   ]
  },
  {
   "cell_type": "code",
   "execution_count": 98,
   "id": "69571d07",
   "metadata": {},
   "outputs": [],
   "source": [
    "# Create PCA instances for each covnet output\n",
    "vgg16_pca = create_fit_PCA(vgg16_output)\n",
    "vgg19_pca = create_fit_PCA(vgg19_output)\n",
    "resnet50_pca = create_fit_PCA(resnet50_output)"
   ]
  },
  {
   "cell_type": "code",
   "execution_count": 99,
   "id": "2d55fc12",
   "metadata": {},
   "outputs": [],
   "source": [
    "# Function to plot the cumulative explained variance of PCA components\n",
    "# This will help us decide how many components we should reduce our features to\n",
    "def pca_cumsum_plot(pca):\n",
    "    plt.plot(np.cumsum(pca.explained_variance_ratio_))\n",
    "    plt.xlabel('number of components')\n",
    "    plt.ylabel('cumulative explained variance')\n",
    "    plt.show()"
   ]
  },
  {
   "cell_type": "code",
   "execution_count": 100,
   "id": "72cfa486",
   "metadata": {
    "scrolled": false
   },
   "outputs": [
    {
     "data": {
      "image/png": "[encoded data removed]",
      "text/plain": [
       "<Figure size 432x288 with 1 Axes>"
      ]
     },
     "metadata": {
      "needs_background": "light"
     },
     "output_type": "display_data"
    },
    {
     "data": {
      "image/png": "[encoded data removed]",
      "text/plain": [
       "<Figure size 432x288 with 1 Axes>"
      ]
     },
     "metadata": {
      "needs_background": "light"
     },
     "output_type": "display_data"
    },
    {
     "data": {
      "image/png": "[encoded data removed]",
      "text/plain": [
       "<Figure size 432x288 with 1 Axes>"
      ]
     },
     "metadata": {
      "needs_background": "light"
     },
     "output_type": "display_data"
    }
   ],
   "source": [
    "# Plot the cumulative explained variance for each covnet\n",
    "pca_cumsum_plot(vgg16_pca)\n",
    "pca_cumsum_plot(vgg19_pca)\n",
    "pca_cumsum_plot(resnet50_pca)"
   ]
  },
  {
   "cell_type": "markdown",
   "id": "b8c09180",
   "metadata": {},
   "source": [
    "Looking at the gaphs above, we can see that PCA can explain almost all the variance in as many dimensions as there are samples.\n",
    "\n",
    "It is also interesting to note the difference in shape between the VGG graphs and the ResNet one. This is probably due to the fact that ResNet only had 2048 dimensions to start with, while VGGs had 25,088"
   ]
  },
  {
   "cell_type": "code",
   "execution_count": 101,
   "id": "f25f3212",
   "metadata": {},
   "outputs": [],
   "source": [
    "# PCA transformations of covnet outputs\n",
    "vgg16_output_pca = vgg16_pca.transform(vgg16_output)\n",
    "vgg19_output_pca = vgg19_pca.transform(vgg19_output)\n",
    "resnet50_output_pca = resnet50_pca.transform(resnet50_output)"
   ]
  },
  {
   "cell_type": "markdown",
   "id": "a1217a95",
   "metadata": {},
   "source": [
    "# Clustering\n",
    "Let's write a couple of functions that would create and fit KMeans and Gaussian Mixture models. While it can make sense to combine them in one function that returns both, I've seperated them so we can execute them seperately and make some observations without overloading the PC"
   ]
  },
  {
   "cell_type": "code",
   "execution_count": 102,
   "id": "3e52c97b",
   "metadata": {},
   "outputs": [],
   "source": [
    "def create_train_kmeans(data, number_of_clusters=len(codes)):\n",
    "    # n_jobs is set to -1 to use all available CPU cores. This makes a big difference on an 8-core CPU\n",
    "    # especially when the data size gets much bigger. #perfMatters\n",
    "    \n",
    "    \n",
    "    k=KMeans(n_clusters=number_of_clusters)\n",
    "    # Let's do some timings to see how long it takes to train.\n",
    "    start = time.time()\n",
    "\n",
    "    # Train it up\n",
    "    k.fit(data)\n",
    "\n",
    "    # Stop the timing \n",
    "    end = time.time()\n",
    "\n",
    "    # And see how long that took\n",
    "    print(\"Training took {} seconds\".format(end-start))\n",
    "    \n",
    "    return k"
   ]
  },
  {
   "cell_type": "code",
   "execution_count": 103,
   "id": "9e02d9bb",
   "metadata": {},
   "outputs": [],
   "source": [
    "def create_train_gmm(data, number_of_clusters=len(codes)):\n",
    "    g = GaussianMixture(n_components=number_of_clusters, covariance_type=\"full\", random_state=728)\n",
    "    \n",
    "    start=time.time()\n",
    "    g.fit(data)\n",
    "    end=time.time()\n",
    "    \n",
    "    print(\"Training took {} seconds\".format(end-start))\n",
    "    \n",
    "    return g"
   ]
  },
  {
   "cell_type": "code",
   "execution_count": 104,
   "id": "a187a2f8",
   "metadata": {},
   "outputs": [
    {
     "name": "stdout",
     "output_type": "stream",
     "text": [
      "KMeans (PCA): \n",
      "\n",
      "VGG16\n",
      "Training took 0.0468747615814209 seconds\n",
      "\n",
      "VGG19\n",
      "Training took 0.04787254333496094 seconds\n",
      "\n",
      "ResNet50\n",
      "Training took 0.0438840389251709 seconds\n"
     ]
    }
   ],
   "source": [
    "# Let's pass the data into the algorithm and predict who lies in which cluster. \n",
    "# Since we're using the same data that we trained it on, this should give us the training results.\n",
    "\n",
    "# Here we create and fit a KMeans model with the PCA outputs\n",
    "print(\"KMeans (PCA): \\n\")\n",
    "\n",
    "print(\"VGG16\")\n",
    "K_vgg16_pca = create_train_kmeans(vgg16_output_pca)\n",
    "\n",
    "print(\"\\nVGG19\")\n",
    "K_vgg19_pca = create_train_kmeans(vgg19_output_pca)\n",
    "\n",
    "print(\"\\nResNet50\")\n",
    "K_resnet50_pca = create_train_kmeans(resnet50_output_pca)"
   ]
  },
  {
   "cell_type": "code",
   "execution_count": 105,
   "id": "ea25794a",
   "metadata": {},
   "outputs": [
    {
     "data": {
      "text/html": [
       "<style>#sk-container-id-4 {color: black;background-color: white;}#sk-container-id-4 pre{padding: 0;}#sk-container-id-4 div.sk-toggleable {background-color: white;}#sk-container-id-4 label.sk-toggleable__label {cursor: pointer;display: block;width: 100%;margin-bottom: 0;padding: 0.3em;box-sizing: border-box;text-align: center;}#sk-container-id-4 label.sk-toggleable__label-arrow:before {content: \"▸\";float: left;margin-right: 0.25em;color: #696969;}#sk-container-id-4 label.sk-toggleable__label-arrow:hover:before {color: black;}#sk-container-id-4 div.sk-estimator:hover label.sk-toggleable__label-arrow:before {color: black;}#sk-container-id-4 div.sk-toggleable__content {max-height: 0;max-width: 0;overflow: hidden;text-align: left;background-color: #f0f8ff;}#sk-container-id-4 div.sk-toggleable__content pre {margin: 0.2em;color: black;border-radius: 0.25em;background-color: #f0f8ff;}#sk-container-id-4 input.sk-toggleable__control:checked~div.sk-toggleable__content {max-height: 200px;max-width: 100%;overflow: auto;}#sk-container-id-4 input.sk-toggleable__control:checked~label.sk-toggleable__label-arrow:before {content: \"▾\";}#sk-container-id-4 div.sk-estimator input.sk-toggleable__control:checked~label.sk-toggleable__label {background-color: #d4ebff;}#sk-container-id-4 div.sk-label input.sk-toggleable__control:checked~label.sk-toggleable__label {background-color: #d4ebff;}#sk-container-id-4 input.sk-hidden--visually {border: 0;clip: rect(1px 1px 1px 1px);clip: rect(1px, 1px, 1px, 1px);height: 1px;margin: -1px;overflow: hidden;padding: 0;position: absolute;width: 1px;}#sk-container-id-4 div.sk-estimator {font-family: monospace;background-color: #f0f8ff;border: 1px dotted black;border-radius: 0.25em;box-sizing: border-box;margin-bottom: 0.5em;}#sk-container-id-4 div.sk-estimator:hover {background-color: #d4ebff;}#sk-container-id-4 div.sk-parallel-item::after {content: \"\";width: 100%;border-bottom: 1px solid gray;flex-grow: 1;}#sk-container-id-4 div.sk-label:hover label.sk-toggleable__label {background-color: #d4ebff;}#sk-container-id-4 div.sk-serial::before {content: \"\";position: absolute;border-left: 1px solid gray;box-sizing: border-box;top: 0;bottom: 0;left: 50%;z-index: 0;}#sk-container-id-4 div.sk-serial {display: flex;flex-direction: column;align-items: center;background-color: white;padding-right: 0.2em;padding-left: 0.2em;position: relative;}#sk-container-id-4 div.sk-item {position: relative;z-index: 1;}#sk-container-id-4 div.sk-parallel {display: flex;align-items: stretch;justify-content: center;background-color: white;position: relative;}#sk-container-id-4 div.sk-item::before, #sk-container-id-4 div.sk-parallel-item::before {content: \"\";position: absolute;border-left: 1px solid gray;box-sizing: border-box;top: 0;bottom: 0;left: 50%;z-index: -1;}#sk-container-id-4 div.sk-parallel-item {display: flex;flex-direction: column;z-index: 1;position: relative;background-color: white;}#sk-container-id-4 div.sk-parallel-item:first-child::after {align-self: flex-end;width: 50%;}#sk-container-id-4 div.sk-parallel-item:last-child::after {align-self: flex-start;width: 50%;}#sk-container-id-4 div.sk-parallel-item:only-child::after {width: 0;}#sk-container-id-4 div.sk-dashed-wrapped {border: 1px dashed gray;margin: 0 0.4em 0.5em 0.4em;box-sizing: border-box;padding-bottom: 0.4em;background-color: white;}#sk-container-id-4 div.sk-label label {font-family: monospace;font-weight: bold;display: inline-block;line-height: 1.2em;}#sk-container-id-4 div.sk-label-container {text-align: center;}#sk-container-id-4 div.sk-container {/* jupyter's `normalize.less` sets `[hidden] { display: none; }` but bootstrap.min.css set `[hidden] { display: none !important; }` so we also need the `!important` here to be able to override the default hidden behavior on the sphinx rendered scikit-learn.org. See: https://github.com/scikit-learn/scikit-learn/issues/21755 */display: inline-block !important;position: relative;}#sk-container-id-4 div.sk-text-repr-fallback {display: none;}</style><div id=\"sk-container-id-4\" class=\"sk-top-container\"><div class=\"sk-text-repr-fallback\"><pre>KMeans(n_clusters=3)</pre><b>In a Jupyter environment, please rerun this cell to show the HTML representation or trust the notebook. <br />On GitHub, the HTML representation is unable to render, please try loading this page with nbviewer.org.</b></div><div class=\"sk-container\" hidden><div class=\"sk-item\"><div class=\"sk-estimator sk-toggleable\"><input class=\"sk-toggleable__control sk-hidden--visually\" id=\"sk-estimator-id-4\" type=\"checkbox\" checked><label for=\"sk-estimator-id-4\" class=\"sk-toggleable__label sk-toggleable__label-arrow\">KMeans</label><div class=\"sk-toggleable__content\"><pre>KMeans(n_clusters=3)</pre></div></div></div></div></div>"
      ],
      "text/plain": [
       "KMeans(n_clusters=3)"
      ]
     },
     "execution_count": 105,
     "metadata": {},
     "output_type": "execute_result"
    }
   ],
   "source": [
    "K_vgg19_pca"
   ]
  },
  {
   "cell_type": "code",
   "execution_count": 106,
   "id": "e67c88eb",
   "metadata": {},
   "outputs": [
    {
     "name": "stdout",
     "output_type": "stream",
     "text": [
      "GMM (PCA): \n",
      "\n",
      "VGG16\n",
      "Training took 0.010969877243041992 seconds\n",
      "\n",
      "VGG19\n",
      "Training took 0.0109710693359375 seconds\n",
      "\n",
      "ResNet50\n",
      "Training took 0.010970592498779297 seconds\n"
     ]
    }
   ],
   "source": [
    "# Same for Gaussian Model\n",
    "print(\"GMM (PCA): \\n\")\n",
    "\n",
    "print(\"VGG16\")\n",
    "G_vgg16_pca = create_train_gmm(vgg16_output_pca)\n",
    "\n",
    "print(\"\\nVGG19\")\n",
    "G_vgg19_pca = create_train_gmm(vgg19_output_pca)\n",
    "\n",
    "print(\"\\nResNet50\")\n",
    "G_resnet50_pca = create_train_gmm(resnet50_output_pca)"
   ]
  },
  {
   "cell_type": "code",
   "execution_count": 107,
   "id": "9d189805",
   "metadata": {},
   "outputs": [
    {
     "name": "stdout",
     "output_type": "stream",
     "text": [
      "KMeans: \n",
      "\n",
      "VGG16:\n",
      "Training took 0.35805320739746094 seconds\n",
      "\n",
      "VGG19:\n",
      "Training took 0.37300705909729004 seconds\n",
      "\n",
      "ResNet50:\n",
      "Training took 1.5189383029937744 seconds\n"
     ]
    }
   ],
   "source": [
    "# Let's also create models for the covnet outputs without PCA for comparison\n",
    "print(\"KMeans: \\n\")\n",
    "\n",
    "print(\"VGG16:\")\n",
    "K_vgg16 = create_train_kmeans(vgg16_output)\n",
    "\n",
    "print(\"\\nVGG19:\")\n",
    "K_vgg19 = create_train_kmeans(vgg19_output)\n",
    "\n",
    "print(\"\\nResNet50:\")\n",
    "K_resnet50 = create_train_kmeans(resnet50_output)"
   ]
  },
  {
   "cell_type": "markdown",
   "id": "3ac12bcf",
   "metadata": {},
   "source": [
    "# Predictions"
   ]
  },
  {
   "cell_type": "code",
   "execution_count": 108,
   "id": "c230578c",
   "metadata": {},
   "outputs": [],
   "source": [
    "# Now we get the custer model predictions\n",
    "\n",
    "# KMeans with PCA outputs\n",
    "k_vgg16_pred_pca = K_vgg16_pca.predict(vgg16_output_pca)\n",
    "k_vgg19_pred_pca = K_vgg19_pca.predict(vgg19_output_pca)\n",
    "k_resnet50_pred_pca = K_resnet50_pca.predict(resnet50_output_pca)\n",
    "\n",
    "# KMeans with CovNet outputs\n",
    "k_vgg16_pred = K_vgg16.predict(vgg16_output)\n",
    "k_vgg19_pred = K_vgg19.predict(vgg19_output)\n",
    "k_resnet50_pred = K_resnet50.predict(resnet50_output)\n",
    "\n",
    "# Gaussian Mixture with PCA outputs\n",
    "g_resnet50_pred_pca = G_resnet50_pca.predict(resnet50_output_pca)\n",
    "g_vgg16_pred_pca = G_vgg16_pca.predict(vgg16_output_pca)\n",
    "g_vgg19_pred_pca = G_vgg19_pca.predict(vgg19_output_pca)"
   ]
  },
  {
   "cell_type": "code",
   "execution_count": 109,
   "id": "877fcb77",
   "metadata": {},
   "outputs": [
    {
     "data": {
      "text/plain": [
       "array([-5.5574260e+00,  3.5424869e+00,  3.5938985e+00,  7.5378513e+00,\n",
       "       -4.1402345e+00, -1.3372842e+00,  2.1850009e-01, -8.9111179e-01,\n",
       "       -8.3233666e-01, -1.7417972e+00, -3.8181853e-01,  9.5655370e-01,\n",
       "        1.7235193e-01,  2.1309260e-01, -6.1233455e-01, -4.5452639e-02,\n",
       "        7.7535069e-01, -3.8672838e-01, -9.2455781e-01, -4.5939547e-01,\n",
       "        7.5327599e-01, -1.1914930e-01, -3.8509941e-01,  4.7069460e-01,\n",
       "       -2.8329527e-01, -1.4868069e+00,  1.6706030e-01,  6.2818408e-02,\n",
       "        3.4442808e-02, -4.8074305e-02, -2.4474222e-02, -1.6326733e-01,\n",
       "        1.2273900e-05,  6.0070306e-07,  1.8626451e-09,  1.0430813e-07,\n",
       "        3.3527613e-08, -1.4435500e-07,  2.4389010e-08,  9.4063580e-08,\n",
       "        6.2398612e-08, -3.5390258e-08, -6.0535967e-08, -1.2293458e-07,\n",
       "        5.9604645e-08], dtype=float32)"
      ]
     },
     "execution_count": 109,
     "metadata": {},
     "output_type": "execute_result"
    }
   ],
   "source": [
    "vgg16_output_pca[0]"
   ]
  },
  {
   "cell_type": "code",
   "execution_count": 110,
   "id": "07519c97",
   "metadata": {},
   "outputs": [
    {
     "data": {
      "text/plain": [
       "array([1, 2, 1, 2, 1, 2, 1, 0, 1, 1, 2, 0, 2, 2, 2, 2, 0, 2, 2, 1, 0, 2,\n",
       "       2, 2, 1, 2, 2, 1, 1, 0, 1, 1, 0, 2, 1, 1, 2, 2, 0, 2, 2, 1, 1, 1,\n",
       "       1])"
      ]
     },
     "execution_count": 110,
     "metadata": {},
     "output_type": "execute_result"
    }
   ],
   "source": [
    "k_vgg19_pred"
   ]
  },
  {
   "cell_type": "markdown",
   "id": "b1ea6e80",
   "metadata": {},
   "source": [
    "Remember that the clustering algorith does not detect which images are cats and which are dogs, it only groups images that look alike together and assigns them a number arbitrarily.\n",
    "\n",
    "We now need to count how many of each label are in each cluster, this way we can take a look and if sufficient eperation has happened we can quicly see which cluster is which label. So let's write a function that does that."
   ]
  },
  {
   "cell_type": "code",
   "execution_count": 111,
   "id": "4eb79603",
   "metadata": {},
   "outputs": [],
   "source": [
    "def cluster_label_count(clusters, labels):\n",
    "    \n",
    "    count = {}\n",
    "    \n",
    "    # Get unique clusters and labels\n",
    "    unique_clusters = list(set(clusters))\n",
    "    unique_labels = list(set(labels))\n",
    "    \n",
    "    # Create counter for each cluster/label combination and set it to 0\n",
    "    for cluster in unique_clusters:\n",
    "        count[cluster] = {}\n",
    "        \n",
    "        for label in unique_labels:\n",
    "            count[cluster][label] = 0\n",
    "    \n",
    "    # Let's count\n",
    "    for i in range(len(clusters)):\n",
    "        count[clusters[i]][labels[i]] +=1\n",
    "    \n",
    "    cluster_df = pd.DataFrame(count)\n",
    "    \n",
    "    return cluster_df"
   ]
  },
  {
   "cell_type": "code",
   "execution_count": 112,
   "id": "8e26cfce",
   "metadata": {},
   "outputs": [],
   "source": [
    "# Cluster counting for VGG16 Means\n",
    "vgg16_cluster_count = cluster_label_count(k_vgg16_pred, y_train)\n",
    "vgg16_cluster_count_pca = cluster_label_count(k_vgg16_pred_pca, y_train)\n",
    "\n",
    "# VGG19 KMeans\n",
    "vgg19_cluster_count = cluster_label_count(k_vgg19_pred, y_train)\n",
    "vgg19_cluster_count_pca = cluster_label_count(k_vgg19_pred_pca, y_train)\n",
    "\n",
    "# ResNet50 KMeans\n",
    "resnet_cluster_count = cluster_label_count(k_resnet50_pred, y_train)\n",
    "resnet_cluster_count_pca = cluster_label_count(k_resnet50_pred_pca, y_train)\n",
    "\n",
    "# GMM\n",
    "g_vgg16_cluster_count_pca = cluster_label_count(g_vgg16_pred_pca, y_train)\n",
    "g_vgg19_cluster_count_pca = cluster_label_count(g_vgg19_pred_pca, y_train)\n",
    "g_resnet50_cluster_count_pca = cluster_label_count(g_resnet50_pred_pca, y_train)"
   ]
  },
  {
   "cell_type": "code",
   "execution_count": 113,
   "id": "386d3c42",
   "metadata": {},
   "outputs": [
    {
     "name": "stdout",
     "output_type": "stream",
     "text": [
      "KMeans VGG16: \n"
     ]
    },
    {
     "data": {
      "text/html": [
       "<div>\n",
       "<style scoped>\n",
       "    .dataframe tbody tr th:only-of-type {\n",
       "        vertical-align: middle;\n",
       "    }\n",
       "\n",
       "    .dataframe tbody tr th {\n",
       "        vertical-align: top;\n",
       "    }\n",
       "\n",
       "    .dataframe thead th {\n",
       "        text-align: right;\n",
       "    }\n",
       "</style>\n",
       "<table border=\"1\" class=\"dataframe\">\n",
       "  <thead>\n",
       "    <tr style=\"text-align: right;\">\n",
       "      <th></th>\n",
       "      <th>0</th>\n",
       "      <th>1</th>\n",
       "      <th>2</th>\n",
       "    </tr>\n",
       "  </thead>\n",
       "  <tbody>\n",
       "    <tr>\n",
       "      <th>V3</th>\n",
       "      <td>7</td>\n",
       "      <td>0</td>\n",
       "      <td>8</td>\n",
       "    </tr>\n",
       "    <tr>\n",
       "      <th>V2</th>\n",
       "      <td>3</td>\n",
       "      <td>9</td>\n",
       "      <td>1</td>\n",
       "    </tr>\n",
       "    <tr>\n",
       "      <th>V1</th>\n",
       "      <td>0</td>\n",
       "      <td>17</td>\n",
       "      <td>0</td>\n",
       "    </tr>\n",
       "  </tbody>\n",
       "</table>\n",
       "</div>"
      ],
      "text/plain": [
       "    0   1  2\n",
       "V3  7   0  8\n",
       "V2  3   9  1\n",
       "V1  0  17  0"
      ]
     },
     "execution_count": 113,
     "metadata": {},
     "output_type": "execute_result"
    }
   ],
   "source": [
    "print(\"KMeans VGG16: \")\n",
    "vgg16_cluster_count"
   ]
  },
  {
   "cell_type": "code",
   "execution_count": 114,
   "id": "8f03e188",
   "metadata": {},
   "outputs": [
    {
     "name": "stdout",
     "output_type": "stream",
     "text": [
      "KMeans VGG16 (PCA): \n"
     ]
    },
    {
     "data": {
      "text/html": [
       "<div>\n",
       "<style scoped>\n",
       "    .dataframe tbody tr th:only-of-type {\n",
       "        vertical-align: middle;\n",
       "    }\n",
       "\n",
       "    .dataframe tbody tr th {\n",
       "        vertical-align: top;\n",
       "    }\n",
       "\n",
       "    .dataframe thead th {\n",
       "        text-align: right;\n",
       "    }\n",
       "</style>\n",
       "<table border=\"1\" class=\"dataframe\">\n",
       "  <thead>\n",
       "    <tr style=\"text-align: right;\">\n",
       "      <th></th>\n",
       "      <th>0</th>\n",
       "      <th>1</th>\n",
       "      <th>2</th>\n",
       "    </tr>\n",
       "  </thead>\n",
       "  <tbody>\n",
       "    <tr>\n",
       "      <th>V3</th>\n",
       "      <td>14</td>\n",
       "      <td>0</td>\n",
       "      <td>1</td>\n",
       "    </tr>\n",
       "    <tr>\n",
       "      <th>V2</th>\n",
       "      <td>4</td>\n",
       "      <td>3</td>\n",
       "      <td>6</td>\n",
       "    </tr>\n",
       "    <tr>\n",
       "      <th>V1</th>\n",
       "      <td>0</td>\n",
       "      <td>12</td>\n",
       "      <td>5</td>\n",
       "    </tr>\n",
       "  </tbody>\n",
       "</table>\n",
       "</div>"
      ],
      "text/plain": [
       "     0   1  2\n",
       "V3  14   0  1\n",
       "V2   4   3  6\n",
       "V1   0  12  5"
      ]
     },
     "execution_count": 114,
     "metadata": {},
     "output_type": "execute_result"
    }
   ],
   "source": [
    "print(\"KMeans VGG16 (PCA): \")\n",
    "vgg16_cluster_count_pca"
   ]
  },
  {
   "cell_type": "code",
   "execution_count": 115,
   "id": "e5c2ba0a",
   "metadata": {},
   "outputs": [
    {
     "name": "stdout",
     "output_type": "stream",
     "text": [
      "GMM VGG16: \n"
     ]
    },
    {
     "data": {
      "text/html": [
       "<div>\n",
       "<style scoped>\n",
       "    .dataframe tbody tr th:only-of-type {\n",
       "        vertical-align: middle;\n",
       "    }\n",
       "\n",
       "    .dataframe tbody tr th {\n",
       "        vertical-align: top;\n",
       "    }\n",
       "\n",
       "    .dataframe thead th {\n",
       "        text-align: right;\n",
       "    }\n",
       "</style>\n",
       "<table border=\"1\" class=\"dataframe\">\n",
       "  <thead>\n",
       "    <tr style=\"text-align: right;\">\n",
       "      <th></th>\n",
       "      <th>0</th>\n",
       "      <th>1</th>\n",
       "      <th>2</th>\n",
       "    </tr>\n",
       "  </thead>\n",
       "  <tbody>\n",
       "    <tr>\n",
       "      <th>V3</th>\n",
       "      <td>6</td>\n",
       "      <td>8</td>\n",
       "      <td>1</td>\n",
       "    </tr>\n",
       "    <tr>\n",
       "      <th>V2</th>\n",
       "      <td>0</td>\n",
       "      <td>4</td>\n",
       "      <td>9</td>\n",
       "    </tr>\n",
       "    <tr>\n",
       "      <th>V1</th>\n",
       "      <td>0</td>\n",
       "      <td>0</td>\n",
       "      <td>17</td>\n",
       "    </tr>\n",
       "  </tbody>\n",
       "</table>\n",
       "</div>"
      ],
      "text/plain": [
       "    0  1   2\n",
       "V3  6  8   1\n",
       "V2  0  4   9\n",
       "V1  0  0  17"
      ]
     },
     "execution_count": 115,
     "metadata": {},
     "output_type": "execute_result"
    }
   ],
   "source": [
    "print(\"GMM VGG16: \")\n",
    "g_vgg16_cluster_count_pca"
   ]
  },
  {
   "cell_type": "code",
   "execution_count": 116,
   "id": "d7bd4a21",
   "metadata": {},
   "outputs": [
    {
     "name": "stdout",
     "output_type": "stream",
     "text": [
      "KMeans VGG19: \n"
     ]
    },
    {
     "data": {
      "text/html": [
       "<div>\n",
       "<style scoped>\n",
       "    .dataframe tbody tr th:only-of-type {\n",
       "        vertical-align: middle;\n",
       "    }\n",
       "\n",
       "    .dataframe tbody tr th {\n",
       "        vertical-align: top;\n",
       "    }\n",
       "\n",
       "    .dataframe thead th {\n",
       "        text-align: right;\n",
       "    }\n",
       "</style>\n",
       "<table border=\"1\" class=\"dataframe\">\n",
       "  <thead>\n",
       "    <tr style=\"text-align: right;\">\n",
       "      <th></th>\n",
       "      <th>0</th>\n",
       "      <th>1</th>\n",
       "      <th>2</th>\n",
       "    </tr>\n",
       "  </thead>\n",
       "  <tbody>\n",
       "    <tr>\n",
       "      <th>V3</th>\n",
       "      <td>0</td>\n",
       "      <td>0</td>\n",
       "      <td>15</td>\n",
       "    </tr>\n",
       "    <tr>\n",
       "      <th>V2</th>\n",
       "      <td>2</td>\n",
       "      <td>6</td>\n",
       "      <td>5</td>\n",
       "    </tr>\n",
       "    <tr>\n",
       "      <th>V1</th>\n",
       "      <td>5</td>\n",
       "      <td>12</td>\n",
       "      <td>0</td>\n",
       "    </tr>\n",
       "  </tbody>\n",
       "</table>\n",
       "</div>"
      ],
      "text/plain": [
       "    0   1   2\n",
       "V3  0   0  15\n",
       "V2  2   6   5\n",
       "V1  5  12   0"
      ]
     },
     "execution_count": 116,
     "metadata": {},
     "output_type": "execute_result"
    }
   ],
   "source": [
    "print(\"KMeans VGG19: \")\n",
    "vgg19_cluster_count"
   ]
  },
  {
   "cell_type": "code",
   "execution_count": 117,
   "id": "2d112f73",
   "metadata": {},
   "outputs": [
    {
     "name": "stdout",
     "output_type": "stream",
     "text": [
      "KMeans VGG19 (PCA): \n"
     ]
    },
    {
     "data": {
      "text/html": [
       "<div>\n",
       "<style scoped>\n",
       "    .dataframe tbody tr th:only-of-type {\n",
       "        vertical-align: middle;\n",
       "    }\n",
       "\n",
       "    .dataframe tbody tr th {\n",
       "        vertical-align: top;\n",
       "    }\n",
       "\n",
       "    .dataframe thead th {\n",
       "        text-align: right;\n",
       "    }\n",
       "</style>\n",
       "<table border=\"1\" class=\"dataframe\">\n",
       "  <thead>\n",
       "    <tr style=\"text-align: right;\">\n",
       "      <th></th>\n",
       "      <th>0</th>\n",
       "      <th>1</th>\n",
       "      <th>2</th>\n",
       "    </tr>\n",
       "  </thead>\n",
       "  <tbody>\n",
       "    <tr>\n",
       "      <th>V3</th>\n",
       "      <td>0</td>\n",
       "      <td>0</td>\n",
       "      <td>15</td>\n",
       "    </tr>\n",
       "    <tr>\n",
       "      <th>V2</th>\n",
       "      <td>5</td>\n",
       "      <td>3</td>\n",
       "      <td>5</td>\n",
       "    </tr>\n",
       "    <tr>\n",
       "      <th>V1</th>\n",
       "      <td>4</td>\n",
       "      <td>13</td>\n",
       "      <td>0</td>\n",
       "    </tr>\n",
       "  </tbody>\n",
       "</table>\n",
       "</div>"
      ],
      "text/plain": [
       "    0   1   2\n",
       "V3  0   0  15\n",
       "V2  5   3   5\n",
       "V1  4  13   0"
      ]
     },
     "execution_count": 117,
     "metadata": {},
     "output_type": "execute_result"
    }
   ],
   "source": [
    "print(\"KMeans VGG19 (PCA): \")\n",
    "vgg19_cluster_count_pca"
   ]
  },
  {
   "cell_type": "code",
   "execution_count": 118,
   "id": "d5585ba4",
   "metadata": {},
   "outputs": [
    {
     "name": "stdout",
     "output_type": "stream",
     "text": [
      "GMM VGG19 (PCA): \n"
     ]
    },
    {
     "data": {
      "text/html": [
       "<div>\n",
       "<style scoped>\n",
       "    .dataframe tbody tr th:only-of-type {\n",
       "        vertical-align: middle;\n",
       "    }\n",
       "\n",
       "    .dataframe tbody tr th {\n",
       "        vertical-align: top;\n",
       "    }\n",
       "\n",
       "    .dataframe thead th {\n",
       "        text-align: right;\n",
       "    }\n",
       "</style>\n",
       "<table border=\"1\" class=\"dataframe\">\n",
       "  <thead>\n",
       "    <tr style=\"text-align: right;\">\n",
       "      <th></th>\n",
       "      <th>0</th>\n",
       "      <th>1</th>\n",
       "      <th>2</th>\n",
       "    </tr>\n",
       "  </thead>\n",
       "  <tbody>\n",
       "    <tr>\n",
       "      <th>V3</th>\n",
       "      <td>6</td>\n",
       "      <td>8</td>\n",
       "      <td>1</td>\n",
       "    </tr>\n",
       "    <tr>\n",
       "      <th>V2</th>\n",
       "      <td>0</td>\n",
       "      <td>4</td>\n",
       "      <td>9</td>\n",
       "    </tr>\n",
       "    <tr>\n",
       "      <th>V1</th>\n",
       "      <td>0</td>\n",
       "      <td>0</td>\n",
       "      <td>17</td>\n",
       "    </tr>\n",
       "  </tbody>\n",
       "</table>\n",
       "</div>"
      ],
      "text/plain": [
       "    0  1   2\n",
       "V3  6  8   1\n",
       "V2  0  4   9\n",
       "V1  0  0  17"
      ]
     },
     "execution_count": 118,
     "metadata": {},
     "output_type": "execute_result"
    }
   ],
   "source": [
    "print(\"GMM VGG19 (PCA): \")\n",
    "g_vgg19_cluster_count_pca"
   ]
  },
  {
   "cell_type": "code",
   "execution_count": 119,
   "id": "564b398b",
   "metadata": {},
   "outputs": [
    {
     "name": "stdout",
     "output_type": "stream",
     "text": [
      "KMeans Resnet50: \n"
     ]
    },
    {
     "data": {
      "text/html": [
       "<div>\n",
       "<style scoped>\n",
       "    .dataframe tbody tr th:only-of-type {\n",
       "        vertical-align: middle;\n",
       "    }\n",
       "\n",
       "    .dataframe tbody tr th {\n",
       "        vertical-align: top;\n",
       "    }\n",
       "\n",
       "    .dataframe thead th {\n",
       "        text-align: right;\n",
       "    }\n",
       "</style>\n",
       "<table border=\"1\" class=\"dataframe\">\n",
       "  <thead>\n",
       "    <tr style=\"text-align: right;\">\n",
       "      <th></th>\n",
       "      <th>0</th>\n",
       "      <th>1</th>\n",
       "      <th>2</th>\n",
       "    </tr>\n",
       "  </thead>\n",
       "  <tbody>\n",
       "    <tr>\n",
       "      <th>V3</th>\n",
       "      <td>3</td>\n",
       "      <td>1</td>\n",
       "      <td>11</td>\n",
       "    </tr>\n",
       "    <tr>\n",
       "      <th>V2</th>\n",
       "      <td>0</td>\n",
       "      <td>8</td>\n",
       "      <td>5</td>\n",
       "    </tr>\n",
       "    <tr>\n",
       "      <th>V1</th>\n",
       "      <td>0</td>\n",
       "      <td>17</td>\n",
       "      <td>0</td>\n",
       "    </tr>\n",
       "  </tbody>\n",
       "</table>\n",
       "</div>"
      ],
      "text/plain": [
       "    0   1   2\n",
       "V3  3   1  11\n",
       "V2  0   8   5\n",
       "V1  0  17   0"
      ]
     },
     "execution_count": 119,
     "metadata": {},
     "output_type": "execute_result"
    }
   ],
   "source": [
    "print(\"KMeans Resnet50: \")\n",
    "resnet_cluster_count"
   ]
  },
  {
   "cell_type": "code",
   "execution_count": 120,
   "id": "4f73e8fb",
   "metadata": {},
   "outputs": [
    {
     "name": "stdout",
     "output_type": "stream",
     "text": [
      "Kmeans Resnet50 (PCA): \n"
     ]
    },
    {
     "data": {
      "text/html": [
       "<div>\n",
       "<style scoped>\n",
       "    .dataframe tbody tr th:only-of-type {\n",
       "        vertical-align: middle;\n",
       "    }\n",
       "\n",
       "    .dataframe tbody tr th {\n",
       "        vertical-align: top;\n",
       "    }\n",
       "\n",
       "    .dataframe thead th {\n",
       "        text-align: right;\n",
       "    }\n",
       "</style>\n",
       "<table border=\"1\" class=\"dataframe\">\n",
       "  <thead>\n",
       "    <tr style=\"text-align: right;\">\n",
       "      <th></th>\n",
       "      <th>0</th>\n",
       "      <th>1</th>\n",
       "      <th>2</th>\n",
       "    </tr>\n",
       "  </thead>\n",
       "  <tbody>\n",
       "    <tr>\n",
       "      <th>V3</th>\n",
       "      <td>11</td>\n",
       "      <td>1</td>\n",
       "      <td>3</td>\n",
       "    </tr>\n",
       "    <tr>\n",
       "      <th>V2</th>\n",
       "      <td>5</td>\n",
       "      <td>8</td>\n",
       "      <td>0</td>\n",
       "    </tr>\n",
       "    <tr>\n",
       "      <th>V1</th>\n",
       "      <td>0</td>\n",
       "      <td>17</td>\n",
       "      <td>0</td>\n",
       "    </tr>\n",
       "  </tbody>\n",
       "</table>\n",
       "</div>"
      ],
      "text/plain": [
       "     0   1  2\n",
       "V3  11   1  3\n",
       "V2   5   8  0\n",
       "V1   0  17  0"
      ]
     },
     "execution_count": 120,
     "metadata": {},
     "output_type": "execute_result"
    }
   ],
   "source": [
    "print(\"Kmeans Resnet50 (PCA): \")\n",
    "resnet_cluster_count_pca"
   ]
  },
  {
   "cell_type": "code",
   "execution_count": 121,
   "id": "018d68b5",
   "metadata": {},
   "outputs": [
    {
     "name": "stdout",
     "output_type": "stream",
     "text": [
      "GMM Resnet50 (PCA): \n"
     ]
    },
    {
     "data": {
      "text/html": [
       "<div>\n",
       "<style scoped>\n",
       "    .dataframe tbody tr th:only-of-type {\n",
       "        vertical-align: middle;\n",
       "    }\n",
       "\n",
       "    .dataframe tbody tr th {\n",
       "        vertical-align: top;\n",
       "    }\n",
       "\n",
       "    .dataframe thead th {\n",
       "        text-align: right;\n",
       "    }\n",
       "</style>\n",
       "<table border=\"1\" class=\"dataframe\">\n",
       "  <thead>\n",
       "    <tr style=\"text-align: right;\">\n",
       "      <th></th>\n",
       "      <th>0</th>\n",
       "      <th>1</th>\n",
       "      <th>2</th>\n",
       "    </tr>\n",
       "  </thead>\n",
       "  <tbody>\n",
       "    <tr>\n",
       "      <th>V3</th>\n",
       "      <td>11</td>\n",
       "      <td>3</td>\n",
       "      <td>1</td>\n",
       "    </tr>\n",
       "    <tr>\n",
       "      <th>V2</th>\n",
       "      <td>5</td>\n",
       "      <td>0</td>\n",
       "      <td>8</td>\n",
       "    </tr>\n",
       "    <tr>\n",
       "      <th>V1</th>\n",
       "      <td>0</td>\n",
       "      <td>0</td>\n",
       "      <td>17</td>\n",
       "    </tr>\n",
       "  </tbody>\n",
       "</table>\n",
       "</div>"
      ],
      "text/plain": [
       "     0  1   2\n",
       "V3  11  3   1\n",
       "V2   5  0   8\n",
       "V1   0  0  17"
      ]
     },
     "execution_count": 121,
     "metadata": {},
     "output_type": "execute_result"
    }
   ],
   "source": [
    "print(\"GMM Resnet50 (PCA): \")\n",
    "g_resnet50_cluster_count_pca"
   ]
  },
  {
   "cell_type": "markdown",
   "id": "20c55264",
   "metadata": {},
   "source": [
    "# Cluster - Label assignment\n",
    "In this part, we will manually look at the cluster count and give a best guess as to which cluster corresponds to which label. While normally each cluster will mostly consist of one label, it is not necessary the case if the clustering algorithm fails to seperate the images. It is therefore better to take stock here, and make sure that we are on the right path."
   ]
  },
  {
   "cell_type": "code",
   "execution_count": 318,
   "id": "9970b5a0",
   "metadata": {},
   "outputs": [],
   "source": [
    "# Manually adjust these lists so that the index of each label reflects which cluter it lies in\n",
    "vgg16_cluster_code = [\"V3\", \"V1\", \"V2\"]\n",
    "vgg16_cluster_code_pca = [\"V3\", \"V1\", \"V2\"]\n",
    "\n",
    "vgg19_cluster_code = [\"V3\", \"V2\", \"V1\"]\n",
    "vgg19_cluster_code_pca = [\"V3\", \"V2\", \"V1\"]\n",
    "# g_vgg19_cluster_code_pca = [\"D25\", \"D19\", \"C8\", \"C1\"]"
   ]
  },
  {
   "cell_type": "markdown",
   "id": "3517aeb0",
   "metadata": {},
   "source": [
    "# Replace the predicted clusters with their labels"
   ]
  },
  {
   "cell_type": "code",
   "execution_count": 319,
   "id": "33a5949d",
   "metadata": {},
   "outputs": [],
   "source": [
    "vgg16_pred_codes = [vgg16_cluster_code[x] for x in k_vgg16_pred]\n",
    "vgg16_pred_codes_pca = [vgg16_cluster_code_pca[x] for x in k_vgg16_pred_pca]\n",
    "vgg19_pred_codes = [vgg19_cluster_code[x] for x in k_vgg19_pred]\n",
    "vgg19_pred_codes_pca = [vgg19_cluster_code_pca[x] for x in k_vgg19_pred_pca]\n",
    "# g_vgg19_pred_codes_pca = [g_vgg19_cluster_code_pca[x] for x in g_vgg19_pred_pca]"
   ]
  },
  {
   "cell_type": "markdown",
   "id": "ef64322b",
   "metadata": {},
   "source": [
    "# Metrics"
   ]
  },
  {
   "cell_type": "code",
   "execution_count": 320,
   "id": "e4431cf6",
   "metadata": {},
   "outputs": [
    {
     "name": "stdout",
     "output_type": "stream",
     "text": [
      "KMeans VGG16: \n",
      "\tF1 Score: 0.48053559   |   Accuracy: 0.48053559\n",
      "KMeans VGG16 (PCA) \n",
      "\tF1 Score: 0.69282828   |   Accuracy: 0.69282828\n",
      "\n",
      "KMeans VGG19:  \n",
      "\tF1 Score: 0.12903226   |   Accuracy: 0.12903226\n",
      "KMeans VGG19 (PCA):  \n",
      "\tF1 Score: 0.06896552   |   Accuracy: 0.06896552\n"
     ]
    }
   ],
   "source": [
    "from sklearn.metrics import accuracy_score, f1_score\n",
    "\n",
    "def print_scores(true, pred):\n",
    "    acc = accuracy_score(true, pred)\n",
    "    f1 = f1_score(true, pred, average=\"macro\")\n",
    "    return \"\\n\\tF1 Score: {0:0.8f}   |   Accuracy: {0:0.8f}\".format(f1,acc)\n",
    "\n",
    "print(\"KMeans VGG16:\", print_scores(y_train, vgg16_pred_codes))\n",
    "print(\"KMeans VGG16 (PCA)\", print_scores(y_train, vgg16_pred_codes_pca))\n",
    "\n",
    "print(\"\\nKMeans VGG19: \", print_scores(y_train, vgg19_pred_codes))\n",
    "print(\"KMeans VGG19 (PCA): \", print_scores(y_train, vgg19_pred_codes_pca))\n",
    "# print(\"GMM VGG19 (PCA)\", print_scores(y_train, g_vgg19_pred_codes_pca))"
   ]
  },
  {
   "cell_type": "markdown",
   "id": "15ff43bd",
   "metadata": {},
   "source": [
    "# Testing"
   ]
  },
  {
   "cell_type": "code",
   "execution_count": 125,
   "id": "0ec90ee1",
   "metadata": {},
   "outputs": [],
   "source": [
    "# Let's put it all together\n",
    "\n",
    "def all_covnet_transform(data):\n",
    "    vgg16 = covnet_transform(vgg16_model, data)\n",
    "    vgg19 = covnet_transform(vgg19_model, data)\n",
    "    resnet50 = covnet_transform(resnet50_model, data)\n",
    "    \n",
    "    return vgg16, vgg19, resnet50\n",
    "\n",
    "\n",
    "def image_load_to_cluster_count(codes):\n",
    "    # Load images\n",
    "    images, labels = load_images(codes)\n",
    "    print(len(images), len(labels))\n",
    "    show_random_images(images, labels)\n",
    "    \n",
    "    # Normalise images\n",
    "    images, labels = normalise_images(images, labels)\n",
    "    \n",
    "    # Split data\n",
    "    data, labels = shuffle_data(images, labels)\n",
    "    \n",
    "    # Get covnet outputs\n",
    "    vgg16_output, vgg19_output, resnet50_output = all_covnet_transform(data)\n",
    "    \n",
    "    # Get PCA transformations\n",
    "    vgg16_output_pca = create_fit_PCA(vgg16_output).transform(vgg16_output)\n",
    "    vgg19_output_pca = create_fit_PCA(vgg19_output).transform(vgg19_output)\n",
    "    resnet50_output_pca = create_fit_PCA(resnet50_output).transform(resnet50_output)\n",
    "    \n",
    "    # Cluster\n",
    "    clusters = len(codes)\n",
    "    \n",
    "    K_vgg16_pred = create_train_kmeans(vgg16_output, clusters).predict(vgg16_output)\n",
    "    K_vgg19_pred = create_train_kmeans(vgg19_output, clusters).predict(vgg19_output)\n",
    "    K_resnet50_pred = create_train_kmeans(resnet50_output, clusters).predict(resnet50_output)\n",
    "    K_vgg16_pred_pca = create_train_kmeans(vgg16_output_pca, clusters).predict(vgg16_output_pca)\n",
    "    K_vgg19_pred_pca = create_train_kmeans(vgg19_output_pca, clusters).predict(vgg19_output_pca)\n",
    "    K_resnet50_pred_pca = create_train_kmeans(resnet50_output_pca, clusters).predict(resnet50_output_pca)\n",
    "    G_vgg16_pred_pca = create_train_gmm(vgg16_output_pca, clusters).predict(vgg16_output_pca)\n",
    "    G_vgg19_pred_pca = create_train_gmm(vgg19_output_pca, clusters).predict(vgg19_output_pca)\n",
    "    G_resnet50_pred_pca = create_train_gmm(resnet50_output_pca, clusters).predict(resnet50_output_pca)\n",
    "    \n",
    "    # Count\n",
    "    vgg16_cluster_count = cluster_label_count(K_vgg16_pred, labels)\n",
    "    vgg16_cluster_count_pca = cluster_label_count(K_vgg16_pred_pca, labels)\n",
    "\n",
    "    # VGG19 KMeans\n",
    "    vgg19_cluster_count = cluster_label_count(K_vgg19_pred, labels)\n",
    "    vgg19_cluster_count_pca = cluster_label_count(K_vgg19_pred_pca, labels)\n",
    "\n",
    "    # ResNet50 KMeans\n",
    "    resnet_cluster_count = cluster_label_count(K_resnet50_pred, labels)\n",
    "    resnet_cluster_count_pca = cluster_label_count(K_resnet50_pred_pca, labels)\n",
    "\n",
    "    # GMM\n",
    "    g_vgg16_cluster_count_pca = cluster_label_count(G_vgg16_pred_pca, labels)\n",
    "    g_vgg19_cluster_count_pca = cluster_label_count(G_vgg19_pred_pca, labels)\n",
    "    g_resnet50_cluster_count_pca = cluster_label_count(G_resnet50_pred_pca, labels)\n",
    "    \n",
    "    print(\"KMeans VGG16: \")\n",
    "    print(vgg16_cluster_count)\n",
    "    print(\"\\nKMeans VGG16 (PCA): \")\n",
    "    print(vgg16_cluster_count_pca)\n",
    "    print(\"\\nGMM VGG16: \")\n",
    "    print(g_vgg16_cluster_count_pca)\n",
    "    print(\"\\nKMeans VGG19: \")\n",
    "    print(vgg19_cluster_count)\n",
    "    print(\"\\nKMeans VGG19 (PCA): \")\n",
    "    print(vgg19_cluster_count_pca)\n",
    "    print(\"GMM VGG19 (PCA): \")\n",
    "    print(g_vgg19_cluster_count_pca)\n",
    "    print(\"KMeans Resnet50: \")\n",
    "    print(resnet_cluster_count)\n",
    "    print(\"Kmeans Resnet50 (PCA): \")\n",
    "    print(resnet_cluster_count_pca)\n",
    "    print(\"GMM Resnet50 (PCA): \")\n",
    "    print(g_resnet50_cluster_count_pca)\n",
    "    \n",
    "    return  K_vgg16_pred, K_vgg16_pred_pca, K_vgg19_pred, K_vgg19_pred_pca, G_vgg19_pred_pca, images, labels"
   ]
  },
  {
   "cell_type": "code",
   "execution_count": 126,
   "id": "539fd951",
   "metadata": {},
   "outputs": [
    {
     "name": "stdout",
     "output_type": "stream",
     "text": [
      "51 51\n",
      "2 random images for code V3\n"
     ]
    },
    {
     "data": {
      "image/png": "[encoded data removed]",
      "text/plain": [
       "<Figure size 432x288 with 2 Axes>"
      ]
     },
     "metadata": {
      "needs_background": "light"
     },
     "output_type": "display_data"
    },
    {
     "name": "stdout",
     "output_type": "stream",
     "text": [
      "2 random images for code V2\n"
     ]
    },
    {
     "data": {
      "image/png": "[encoded data removed]",
      "text/plain": [
       "<Figure size 432x288 with 2 Axes>"
      ]
     },
     "metadata": {
      "needs_background": "light"
     },
     "output_type": "display_data"
    },
    {
     "name": "stdout",
     "output_type": "stream",
     "text": [
      "2 random images for code V1\n"
     ]
    },
    {
     "data": {
      "image/png": "[encoded data removed]",
      "text/plain": [
       "<Figure size 432x288 with 2 Axes>"
      ]
     },
     "metadata": {
      "needs_background": "light"
     },
     "output_type": "display_data"
    },
    {
     "name": "stdout",
     "output_type": "stream",
     "text": [
      "2/2 [==============================] - 4s 1s/step\n",
      "2/2 [==============================] - 5s 1s/step\n",
      "2/2 [==============================] - 2s 748ms/step\n",
      "Training took 0.34607601165771484 seconds\n",
      "Training took 0.38197851181030273 seconds\n",
      "Training took 1.466078758239746 seconds\n",
      "Training took 0.04886889457702637 seconds\n",
      "Training took 0.04787278175354004 seconds\n",
      "Training took 0.04886913299560547 seconds\n",
      "Training took 0.010970592498779297 seconds\n",
      "Training took 0.011967897415161133 seconds\n",
      "Training took 0.011968135833740234 seconds\n",
      "KMeans VGG16: \n",
      "     0   1  2\n",
      "V3   0  15  0\n",
      "V2   3   5  5\n",
      "V1  13   0  4\n",
      "\n",
      "KMeans VGG16 (PCA): \n",
      "     0  1  2\n",
      "V3   0  7  8\n",
      "V2   8  4  1\n",
      "V1  17  0  0\n",
      "\n",
      "GMM VGG16: \n",
      "    0  1   2\n",
      "V3  6  8   1\n",
      "V2  0  4   9\n",
      "V1  0  0  17\n",
      "\n",
      "KMeans VGG19: \n",
      "     0   1  2\n",
      "V3  15   0  0\n",
      "V2   4   8  1\n",
      "V1   0  12  5\n",
      "\n",
      "KMeans VGG19 (PCA): \n",
      "     0  1   2\n",
      "V3  15  0   0\n",
      "V2   5  5   3\n",
      "V1   0  4  13\n",
      "GMM VGG19 (PCA): \n",
      "    0  1   2\n",
      "V3  6  8   1\n",
      "V2  0  4   9\n",
      "V1  0  0  17\n",
      "KMeans Resnet50: \n",
      "    0   1   2\n",
      "V3  3   1  11\n",
      "V2  0   8   5\n",
      "V1  0  17   0\n",
      "Kmeans Resnet50 (PCA): \n",
      "     0   1  2\n",
      "V3  11   1  3\n",
      "V2   5   8  0\n",
      "V1   0  17  0\n",
      "GMM Resnet50 (PCA): \n",
      "     0  1   2\n",
      "V3  11  3   1\n",
      "V2   5  0   8\n",
      "V1   0  0  17\n"
     ]
    }
   ],
   "source": [
    "codes = [\"V1\", \"V2\", \"V3\"]\n",
    "outputs = image_load_to_cluster_count(codes)"
   ]
  },
  {
   "cell_type": "code",
   "execution_count": 317,
   "id": "4d13fe9a",
   "metadata": {},
   "outputs": [
    {
     "name": "stdout",
     "output_type": "stream",
     "text": [
      "KMeans VGG16: \n",
      "\tF1 Score: 0.15151515   |   Accuracy: 0.15151515\n",
      "KMeans VGG16 (PCA) \n",
      "\tF1 Score: 0.03030303   |   Accuracy: 0.03030303\n",
      "\n",
      "KMeans VGG19:  \n",
      "\tF1 Score: 0.60066134   |   Accuracy: 0.60066134\n",
      "KMeans VGG19 (PCA):  \n",
      "\tF1 Score: 0.69985570   |   Accuracy: 0.69985570\n",
      "GMM VGG19 (PCA) \n",
      "\tF1 Score: 0.55471861   |   Accuracy: 0.55471861\n"
     ]
    }
   ],
   "source": [
    "vgg16_cluster_code = [\"V3\", \"V1\", \"V2\"]\n",
    "vgg16_cluster_code_pca = [\"V3\", \"V1\", \"V2\"]\n",
    "\n",
    "vgg19_cluster_code = [\"V3\", \"V2\", \"V1\"]\n",
    "vgg19_cluster_code_pca = [\"V3\", \"V2\", \"V1\"]\n",
    "\n",
    "\n",
    "\n",
    "vgg16_pred_codes = [vgg16_cluster_code[x] for x in outputs[0]]\n",
    "vgg16_pred_codes_pca = [vgg16_cluster_code_pca[x] for x in outputs[1]]\n",
    "vgg19_pred_codes = [vgg19_cluster_code[x] for x in outputs[2]]\n",
    "vgg19_pred_codes_pca = [vgg19_cluster_code_pca[x] for x in outputs[3]]\n",
    "g_vgg19_pred_codes_pca = [vgg19_cluster_code_pca[x] for x in outputs[4]]\n",
    "\n",
    "print(\"KMeans VGG16:\", print_scores(outputs[-1], vgg16_pred_codes))\n",
    "print(\"KMeans VGG16 (PCA)\", print_scores(outputs[-1], vgg16_pred_codes_pca))\n",
    "\n",
    "print(\"\\nKMeans VGG19: \", print_scores(outputs[-1], vgg19_pred_codes))\n",
    "print(\"KMeans VGG19 (PCA): \", print_scores(outputs[-1], vgg19_pred_codes_pca))\n",
    "print(\"GMM VGG19 (PCA)\", print_scores(outputs[-1], g_vgg19_pred_codes_pca))"
   ]
  },
  {
   "cell_type": "code",
   "execution_count": 128,
   "id": "cf041ccc",
   "metadata": {},
   "outputs": [
    {
     "name": "stderr",
     "output_type": "stream",
     "text": [
      "C:\\Users\\alaba\\AppData\\Local\\Temp\\ipykernel_21532\\837600920.py:1: DtypeWarning: Columns (1,2,8,9,15,16,17,18) have mixed types. Specify dtype option on import or set low_memory=False.\n",
      "  df0=pd.read_csv('Ichkel-Tunisia.csv')\n"
     ]
    }
   ],
   "source": [
    "df0=pd.read_csv('Ichkel-Tunisia.csv')"
   ]
  },
  {
   "cell_type": "code",
   "execution_count": 129,
   "id": "55ac4e66",
   "metadata": {
    "scrolled": false
   },
   "outputs": [
    {
     "data": {
      "text/plain": [
       "Index(['TimeStamp', 'MeanWindSpeedUID_10,0m|Mean wind speed|L-1,00|U75,00',\n",
       "       'DirectionUID_10,0m|Wind direction|L0,00|U360,00', 'Comment_10,0m',\n",
       "       'TimeStampStatus_10,0m', 'SampleStatus_10,0m',\n",
       "       'DataStatus_MeanWindSpeedUID_10,0m', 'DataStatus_DirectionUID_10,0m',\n",
       "       'MeanWindSpeedUID_100,0m|Mean wind speed|L-1,00|U75,00',\n",
       "       'DirectionUID_100,0m|Wind direction|L0,00|U360,00', 'Comment_100,0m',\n",
       "       'TimeStampStatus_100,0m', 'SampleStatus_100,0m',\n",
       "       'DataStatus_MeanWindSpeedUID_100,0m', 'DataStatus_DirectionUID_100,0m',\n",
       "       'TemperatureUID_2,0m|Temperature|L-50,00|U60,00',\n",
       "       'SolarRadiationUID_2,0m|Solar irradiation|L-10,00|U2000,00',\n",
       "       'StabilityUID_2,0m|Stability (1/L)',\n",
       "       'RelativeHumidityUID_2,0m|Relative humidity|L0,00|U100,00',\n",
       "       'Comment_2,0m', 'TimeStampStatus_2,0m', 'SampleStatus_2,0m',\n",
       "       'DataStatus_TemperatureUID_2,0m', 'DataStatus_SolarRadiationUID_2,0m',\n",
       "       'DataStatus_StabilityUID_2,0m', 'DataStatus_RelativeHumidityUID_2,0m'],\n",
       "      dtype='object')"
      ]
     },
     "execution_count": 129,
     "metadata": {},
     "output_type": "execute_result"
    }
   ],
   "source": [
    "df0.columns"
   ]
  },
  {
   "cell_type": "code",
   "execution_count": 130,
   "id": "4e57c8d4",
   "metadata": {},
   "outputs": [
    {
     "data": {
      "text/plain": [
       "(298057, 26)"
      ]
     },
     "execution_count": 130,
     "metadata": {},
     "output_type": "execute_result"
    }
   ],
   "source": [
    "df0.shape"
   ]
  },
  {
   "cell_type": "code",
   "execution_count": 131,
   "id": "41ce0a7b",
   "metadata": {},
   "outputs": [
    {
     "data": {
      "text/html": [
       "<div>\n",
       "<style scoped>\n",
       "    .dataframe tbody tr th:only-of-type {\n",
       "        vertical-align: middle;\n",
       "    }\n",
       "\n",
       "    .dataframe tbody tr th {\n",
       "        vertical-align: top;\n",
       "    }\n",
       "\n",
       "    .dataframe thead th {\n",
       "        text-align: right;\n",
       "    }\n",
       "</style>\n",
       "<table border=\"1\" class=\"dataframe\">\n",
       "  <thead>\n",
       "    <tr style=\"text-align: right;\">\n",
       "      <th></th>\n",
       "      <th>TimeStamp</th>\n",
       "      <th>MWS@10m</th>\n",
       "      <th>WD@10m</th>\n",
       "      <th>MWS@100m</th>\n",
       "      <th>WD@100m</th>\n",
       "      <th>Temperature</th>\n",
       "      <th>SolarRadiation</th>\n",
       "      <th>Stability</th>\n",
       "      <th>Humidity</th>\n",
       "    </tr>\n",
       "  </thead>\n",
       "  <tbody>\n",
       "    <tr>\n",
       "      <th>1</th>\n",
       "      <td>1/1/1988 1:00</td>\n",
       "      <td>1.65</td>\n",
       "      <td>190.9</td>\n",
       "      <td>2.8</td>\n",
       "      <td>195.2</td>\n",
       "      <td>8.9</td>\n",
       "      <td>0</td>\n",
       "      <td>0.381427</td>\n",
       "      <td>90.4</td>\n",
       "    </tr>\n",
       "    <tr>\n",
       "      <th>2</th>\n",
       "      <td>1/1/1988 2:00</td>\n",
       "      <td>1.36</td>\n",
       "      <td>206.3</td>\n",
       "      <td>2.8</td>\n",
       "      <td>216.6</td>\n",
       "      <td>9.1</td>\n",
       "      <td>0</td>\n",
       "      <td>0.705773</td>\n",
       "      <td>92.9</td>\n",
       "    </tr>\n",
       "    <tr>\n",
       "      <th>3</th>\n",
       "      <td>1/1/1988 3:00</td>\n",
       "      <td>1.75</td>\n",
       "      <td>238.3</td>\n",
       "      <td>3.85</td>\n",
       "      <td>256.8</td>\n",
       "      <td>8.3</td>\n",
       "      <td>0</td>\n",
       "      <td>1.81518</td>\n",
       "      <td>95.4</td>\n",
       "    </tr>\n",
       "    <tr>\n",
       "      <th>4</th>\n",
       "      <td>1/1/1988 4:00</td>\n",
       "      <td>2.23</td>\n",
       "      <td>263.3</td>\n",
       "      <td>5.1</td>\n",
       "      <td>282.2</td>\n",
       "      <td>7.5</td>\n",
       "      <td>0</td>\n",
       "      <td>2.29405</td>\n",
       "      <td>92.9</td>\n",
       "    </tr>\n",
       "    <tr>\n",
       "      <th>5</th>\n",
       "      <td>1/1/1988 5:00</td>\n",
       "      <td>2.2</td>\n",
       "      <td>274.2</td>\n",
       "      <td>5.17</td>\n",
       "      <td>292.2</td>\n",
       "      <td>7.4</td>\n",
       "      <td>0</td>\n",
       "      <td>1.405246</td>\n",
       "      <td>92.7</td>\n",
       "    </tr>\n",
       "  </tbody>\n",
       "</table>\n",
       "</div>"
      ],
      "text/plain": [
       "       TimeStamp MWS@10m WD@10m MWS@100m WD@100m Temperature SolarRadiation  \\\n",
       "1  1/1/1988 1:00    1.65  190.9      2.8   195.2         8.9              0   \n",
       "2  1/1/1988 2:00    1.36  206.3      2.8   216.6         9.1              0   \n",
       "3  1/1/1988 3:00    1.75  238.3     3.85   256.8         8.3              0   \n",
       "4  1/1/1988 4:00    2.23  263.3      5.1   282.2         7.5              0   \n",
       "5  1/1/1988 5:00     2.2  274.2     5.17   292.2         7.4              0   \n",
       "\n",
       "  Stability Humidity  \n",
       "1  0.381427     90.4  \n",
       "2  0.705773     92.9  \n",
       "3   1.81518     95.4  \n",
       "4   2.29405     92.9  \n",
       "5  1.405246     92.7  "
      ]
     },
     "execution_count": 131,
     "metadata": {},
     "output_type": "execute_result"
    }
   ],
   "source": [
    "df=df0[[\"TimeStamp\",\"MeanWindSpeedUID_10,0m|Mean wind speed|L-1,00|U75,00\",\"DirectionUID_10,0m|Wind direction|L0,00|U360,00\"\n",
    "      ,\"MeanWindSpeedUID_100,0m|Mean wind speed|L-1,00|U75,00\",\"DirectionUID_100,0m|Wind direction|L0,00|U360,00\",\n",
    "      \"TemperatureUID_2,0m|Temperature|L-50,00|U60,00\",\"SolarRadiationUID_2,0m|Solar irradiation|L-10,00|U2000,00\",\n",
    "      \"StabilityUID_2,0m|Stability (1/L)\",\"RelativeHumidityUID_2,0m|Relative humidity|L0,00|U100,00\"]]\n",
    "df=df.drop(df.index[0])\n",
    "df.rename(columns={\"MeanWindSpeedUID_10,0m|Mean wind speed|L-1,00|U75,00\": \"MWS@10m\", \n",
    "                   \"DirectionUID_10,0m|Wind direction|L0,00|U360,00\": \"WD@10m\",\n",
    "                  \"MeanWindSpeedUID_100,0m|Mean wind speed|L-1,00|U75,00\":\"MWS@100m\",\n",
    "                  \"DirectionUID_100,0m|Wind direction|L0,00|U360,00\":\"WD@100m\",\n",
    "                  \"TemperatureUID_2,0m|Temperature|L-50,00|U60,00\":\"Temperature\",\n",
    "                  \"SolarRadiationUID_2,0m|Solar irradiation|L-10,00|U2000,00\":\"SolarRadiation\",\n",
    "                  \"StabilityUID_2,0m|Stability (1/L)\":\"Stability\",\n",
    "                  \"RelativeHumidityUID_2,0m|Relative humidity|L0,00|U100,00\":\"Humidity\"},inplace=True)\n",
    "df.head()"
   ]
  },
  {
   "cell_type": "code",
   "execution_count": 132,
   "id": "0fc50e5f",
   "metadata": {},
   "outputs": [],
   "source": [
    "df['Temperature']=df['Temperature'].astype('float64')\n",
    "df['Stability']=pd.to_numeric(df['Stability'],errors='coerce')\n",
    "df['SolarRadiation']=df['SolarRadiation'].astype('float64')\n",
    "df['Humidity']=df['Humidity'].astype('float64')\n",
    "df['MWS@10m']=df['MWS@10m'].astype('float64')\n",
    "df['WD@10m']=df['WD@10m'].astype('float64')\n",
    "df['MWS@100m']=df['MWS@100m'].astype('float64')\n",
    "df['WD@100m']=df['WD@100m'].astype('float64')\n"
   ]
  },
  {
   "cell_type": "code",
   "execution_count": 133,
   "id": "6e38ffcc",
   "metadata": {},
   "outputs": [
    {
     "data": {
      "text/html": [
       "<div>\n",
       "<style scoped>\n",
       "    .dataframe tbody tr th:only-of-type {\n",
       "        vertical-align: middle;\n",
       "    }\n",
       "\n",
       "    .dataframe tbody tr th {\n",
       "        vertical-align: top;\n",
       "    }\n",
       "\n",
       "    .dataframe thead th {\n",
       "        text-align: right;\n",
       "    }\n",
       "</style>\n",
       "<table border=\"1\" class=\"dataframe\">\n",
       "  <thead>\n",
       "    <tr style=\"text-align: right;\">\n",
       "      <th></th>\n",
       "      <th>MWS@10m</th>\n",
       "      <th>WD@10m</th>\n",
       "      <th>MWS@100m</th>\n",
       "      <th>WD@100m</th>\n",
       "      <th>Temperature</th>\n",
       "      <th>SolarRadiation</th>\n",
       "      <th>Stability</th>\n",
       "      <th>Humidity</th>\n",
       "    </tr>\n",
       "  </thead>\n",
       "  <tbody>\n",
       "    <tr>\n",
       "      <th>count</th>\n",
       "      <td>298056.000000</td>\n",
       "      <td>298056.000000</td>\n",
       "      <td>298056.000000</td>\n",
       "      <td>298056.000000</td>\n",
       "      <td>298056.000000</td>\n",
       "      <td>298056.000000</td>\n",
       "      <td>2.980430e+05</td>\n",
       "      <td>298056.000000</td>\n",
       "    </tr>\n",
       "    <tr>\n",
       "      <th>mean</th>\n",
       "      <td>3.797436</td>\n",
       "      <td>215.934120</td>\n",
       "      <td>6.046575</td>\n",
       "      <td>217.518100</td>\n",
       "      <td>19.039903</td>\n",
       "      <td>202.964716</td>\n",
       "      <td>2.817561e+01</td>\n",
       "      <td>75.070367</td>\n",
       "    </tr>\n",
       "    <tr>\n",
       "      <th>std</th>\n",
       "      <td>2.049724</td>\n",
       "      <td>94.748877</td>\n",
       "      <td>3.072152</td>\n",
       "      <td>95.751418</td>\n",
       "      <td>6.140357</td>\n",
       "      <td>278.970131</td>\n",
       "      <td>1.145400e+04</td>\n",
       "      <td>14.493030</td>\n",
       "    </tr>\n",
       "    <tr>\n",
       "      <th>min</th>\n",
       "      <td>0.000000</td>\n",
       "      <td>0.000000</td>\n",
       "      <td>0.000000</td>\n",
       "      <td>0.000000</td>\n",
       "      <td>3.000000</td>\n",
       "      <td>0.000000</td>\n",
       "      <td>-7.781561e+04</td>\n",
       "      <td>12.500000</td>\n",
       "    </tr>\n",
       "    <tr>\n",
       "      <th>25%</th>\n",
       "      <td>2.160000</td>\n",
       "      <td>133.400000</td>\n",
       "      <td>3.770000</td>\n",
       "      <td>133.800000</td>\n",
       "      <td>14.100000</td>\n",
       "      <td>0.000000</td>\n",
       "      <td>-1.630500e-02</td>\n",
       "      <td>65.100000</td>\n",
       "    </tr>\n",
       "    <tr>\n",
       "      <th>50%</th>\n",
       "      <td>3.480000</td>\n",
       "      <td>257.800000</td>\n",
       "      <td>5.720000</td>\n",
       "      <td>264.500000</td>\n",
       "      <td>18.500000</td>\n",
       "      <td>10.240000</td>\n",
       "      <td>6.752000e-03</td>\n",
       "      <td>77.600000</td>\n",
       "    </tr>\n",
       "    <tr>\n",
       "      <th>75%</th>\n",
       "      <td>5.020000</td>\n",
       "      <td>294.300000</td>\n",
       "      <td>7.940000</td>\n",
       "      <td>295.800000</td>\n",
       "      <td>23.700000</td>\n",
       "      <td>374.295000</td>\n",
       "      <td>3.865000e-02</td>\n",
       "      <td>86.800000</td>\n",
       "    </tr>\n",
       "    <tr>\n",
       "      <th>max</th>\n",
       "      <td>14.630000</td>\n",
       "      <td>359.900000</td>\n",
       "      <td>21.770000</td>\n",
       "      <td>359.900000</td>\n",
       "      <td>45.500000</td>\n",
       "      <td>987.960000</td>\n",
       "      <td>5.448252e+06</td>\n",
       "      <td>100.000000</td>\n",
       "    </tr>\n",
       "  </tbody>\n",
       "</table>\n",
       "</div>"
      ],
      "text/plain": [
       "             MWS@10m         WD@10m       MWS@100m        WD@100m  \\\n",
       "count  298056.000000  298056.000000  298056.000000  298056.000000   \n",
       "mean        3.797436     215.934120       6.046575     217.518100   \n",
       "std         2.049724      94.748877       3.072152      95.751418   \n",
       "min         0.000000       0.000000       0.000000       0.000000   \n",
       "25%         2.160000     133.400000       3.770000     133.800000   \n",
       "50%         3.480000     257.800000       5.720000     264.500000   \n",
       "75%         5.020000     294.300000       7.940000     295.800000   \n",
       "max        14.630000     359.900000      21.770000     359.900000   \n",
       "\n",
       "         Temperature  SolarRadiation     Stability       Humidity  \n",
       "count  298056.000000   298056.000000  2.980430e+05  298056.000000  \n",
       "mean       19.039903      202.964716  2.817561e+01      75.070367  \n",
       "std         6.140357      278.970131  1.145400e+04      14.493030  \n",
       "min         3.000000        0.000000 -7.781561e+04      12.500000  \n",
       "25%        14.100000        0.000000 -1.630500e-02      65.100000  \n",
       "50%        18.500000       10.240000  6.752000e-03      77.600000  \n",
       "75%        23.700000      374.295000  3.865000e-02      86.800000  \n",
       "max        45.500000      987.960000  5.448252e+06     100.000000  "
      ]
     },
     "execution_count": 133,
     "metadata": {},
     "output_type": "execute_result"
    }
   ],
   "source": [
    "df.describe()"
   ]
  },
  {
   "cell_type": "code",
   "execution_count": 134,
   "id": "a860152c",
   "metadata": {},
   "outputs": [
    {
     "data": {
      "text/html": [
       "<style type=\"text/css\">\n",
       "#T_29528_row0_col0, #T_29528_row1_col1, #T_29528_row2_col2, #T_29528_row3_col3, #T_29528_row4_col4, #T_29528_row5_col5, #T_29528_row6_col6, #T_29528_row7_col7 {\n",
       "  background-color: #b40426;\n",
       "  color: #f1f1f1;\n",
       "}\n",
       "#T_29528_row0_col1, #T_29528_row3_col7 {\n",
       "  background-color: #bad0f8;\n",
       "  color: #000000;\n",
       "}\n",
       "#T_29528_row0_col2 {\n",
       "  background-color: #c12b30;\n",
       "  color: #f1f1f1;\n",
       "}\n",
       "#T_29528_row0_col3 {\n",
       "  background-color: #b5cdfa;\n",
       "  color: #000000;\n",
       "}\n",
       "#T_29528_row0_col4 {\n",
       "  background-color: #9ebeff;\n",
       "  color: #000000;\n",
       "}\n",
       "#T_29528_row0_col5 {\n",
       "  background-color: #d1dae9;\n",
       "  color: #000000;\n",
       "}\n",
       "#T_29528_row0_col6, #T_29528_row1_col6, #T_29528_row2_col6, #T_29528_row3_col6, #T_29528_row4_col1, #T_29528_row4_col3, #T_29528_row4_col6, #T_29528_row5_col6, #T_29528_row5_col7, #T_29528_row7_col0, #T_29528_row7_col2, #T_29528_row7_col4, #T_29528_row7_col5 {\n",
       "  background-color: #3b4cc0;\n",
       "  color: #f1f1f1;\n",
       "}\n",
       "#T_29528_row0_col7, #T_29528_row6_col0 {\n",
       "  background-color: #7ea1fa;\n",
       "  color: #f1f1f1;\n",
       "}\n",
       "#T_29528_row1_col0 {\n",
       "  background-color: #c9d7f0;\n",
       "  color: #000000;\n",
       "}\n",
       "#T_29528_row1_col2, #T_29528_row2_col1, #T_29528_row3_col2 {\n",
       "  background-color: #b7cff9;\n",
       "  color: #000000;\n",
       "}\n",
       "#T_29528_row1_col3 {\n",
       "  background-color: #ca3b37;\n",
       "  color: #f1f1f1;\n",
       "}\n",
       "#T_29528_row1_col4 {\n",
       "  background-color: #86a9fc;\n",
       "  color: #f1f1f1;\n",
       "}\n",
       "#T_29528_row1_col5 {\n",
       "  background-color: #adc9fd;\n",
       "  color: #000000;\n",
       "}\n",
       "#T_29528_row1_col7 {\n",
       "  background-color: #bed2f6;\n",
       "  color: #000000;\n",
       "}\n",
       "#T_29528_row2_col0 {\n",
       "  background-color: #c0282f;\n",
       "  color: #f1f1f1;\n",
       "}\n",
       "#T_29528_row2_col3 {\n",
       "  background-color: #b3cdfb;\n",
       "  color: #000000;\n",
       "}\n",
       "#T_29528_row2_col4 {\n",
       "  background-color: #8caffe;\n",
       "  color: #000000;\n",
       "}\n",
       "#T_29528_row2_col5 {\n",
       "  background-color: #a9c6fd;\n",
       "  color: #000000;\n",
       "}\n",
       "#T_29528_row2_col7 {\n",
       "  background-color: #93b5fe;\n",
       "  color: #000000;\n",
       "}\n",
       "#T_29528_row3_col0 {\n",
       "  background-color: #c7d7f0;\n",
       "  color: #000000;\n",
       "}\n",
       "#T_29528_row3_col1 {\n",
       "  background-color: #c83836;\n",
       "  color: #f1f1f1;\n",
       "}\n",
       "#T_29528_row3_col4 {\n",
       "  background-color: #8badfd;\n",
       "  color: #000000;\n",
       "}\n",
       "#T_29528_row3_col5 {\n",
       "  background-color: #afcafc;\n",
       "  color: #000000;\n",
       "}\n",
       "#T_29528_row4_col0 {\n",
       "  background-color: #6a8bef;\n",
       "  color: #f1f1f1;\n",
       "}\n",
       "#T_29528_row4_col2 {\n",
       "  background-color: #4055c8;\n",
       "  color: #f1f1f1;\n",
       "}\n",
       "#T_29528_row4_col5 {\n",
       "  background-color: #f7bca1;\n",
       "  color: #000000;\n",
       "}\n",
       "#T_29528_row4_col7 {\n",
       "  background-color: #485fd1;\n",
       "  color: #f1f1f1;\n",
       "}\n",
       "#T_29528_row5_col0 {\n",
       "  background-color: #a2c1ff;\n",
       "  color: #000000;\n",
       "}\n",
       "#T_29528_row5_col1 {\n",
       "  background-color: #5a78e4;\n",
       "  color: #f1f1f1;\n",
       "}\n",
       "#T_29528_row5_col2 {\n",
       "  background-color: #5673e0;\n",
       "  color: #f1f1f1;\n",
       "}\n",
       "#T_29528_row5_col3 {\n",
       "  background-color: #5875e1;\n",
       "  color: #f1f1f1;\n",
       "}\n",
       "#T_29528_row5_col4 {\n",
       "  background-color: #f5c0a7;\n",
       "  color: #000000;\n",
       "}\n",
       "#T_29528_row6_col1, #T_29528_row6_col2 {\n",
       "  background-color: #688aef;\n",
       "  color: #f1f1f1;\n",
       "}\n",
       "#T_29528_row6_col3 {\n",
       "  background-color: #6485ec;\n",
       "  color: #f1f1f1;\n",
       "}\n",
       "#T_29528_row6_col4 {\n",
       "  background-color: #aec9fc;\n",
       "  color: #000000;\n",
       "}\n",
       "#T_29528_row6_col5, #T_29528_row6_col7 {\n",
       "  background-color: #b9d0f9;\n",
       "  color: #000000;\n",
       "}\n",
       "#T_29528_row7_col1 {\n",
       "  background-color: #7295f4;\n",
       "  color: #f1f1f1;\n",
       "}\n",
       "#T_29528_row7_col3 {\n",
       "  background-color: #6788ee;\n",
       "  color: #f1f1f1;\n",
       "}\n",
       "#T_29528_row7_col6 {\n",
       "  background-color: #3c4ec2;\n",
       "  color: #f1f1f1;\n",
       "}\n",
       "</style>\n",
       "<table id=\"T_29528\">\n",
       "  <thead>\n",
       "    <tr>\n",
       "      <th class=\"blank level0\" >&nbsp;</th>\n",
       "      <th id=\"T_29528_level0_col0\" class=\"col_heading level0 col0\" >MWS@10m</th>\n",
       "      <th id=\"T_29528_level0_col1\" class=\"col_heading level0 col1\" >WD@10m</th>\n",
       "      <th id=\"T_29528_level0_col2\" class=\"col_heading level0 col2\" >MWS@100m</th>\n",
       "      <th id=\"T_29528_level0_col3\" class=\"col_heading level0 col3\" >WD@100m</th>\n",
       "      <th id=\"T_29528_level0_col4\" class=\"col_heading level0 col4\" >Temperature</th>\n",
       "      <th id=\"T_29528_level0_col5\" class=\"col_heading level0 col5\" >SolarRadiation</th>\n",
       "      <th id=\"T_29528_level0_col6\" class=\"col_heading level0 col6\" >Stability</th>\n",
       "      <th id=\"T_29528_level0_col7\" class=\"col_heading level0 col7\" >Humidity</th>\n",
       "    </tr>\n",
       "  </thead>\n",
       "  <tbody>\n",
       "    <tr>\n",
       "      <th id=\"T_29528_level0_row0\" class=\"row_heading level0 row0\" >MWS@10m</th>\n",
       "      <td id=\"T_29528_row0_col0\" class=\"data row0 col0\" >1.000000</td>\n",
       "      <td id=\"T_29528_row0_col1\" class=\"data row0 col1\" >0.271168</td>\n",
       "      <td id=\"T_29528_row0_col2\" class=\"data row0 col2\" >0.957930</td>\n",
       "      <td id=\"T_29528_row0_col3\" class=\"data row0 col3\" >0.266631</td>\n",
       "      <td id=\"T_29528_row0_col4\" class=\"data row0 col4\" >-0.077316</td>\n",
       "      <td id=\"T_29528_row0_col5\" class=\"data row0 col5\" >0.123942</td>\n",
       "      <td id=\"T_29528_row0_col6\" class=\"data row0 col6\" >-0.003255</td>\n",
       "      <td id=\"T_29528_row0_col7\" class=\"data row0 col7\" >-0.269279</td>\n",
       "    </tr>\n",
       "    <tr>\n",
       "      <th id=\"T_29528_level0_row1\" class=\"row_heading level0 row1\" >WD@10m</th>\n",
       "      <td id=\"T_29528_row1_col0\" class=\"data row1 col0\" >0.271168</td>\n",
       "      <td id=\"T_29528_row1_col1\" class=\"data row1 col1\" >1.000000</td>\n",
       "      <td id=\"T_29528_row1_col2\" class=\"data row1 col2\" >0.262210</td>\n",
       "      <td id=\"T_29528_row1_col3\" class=\"data row1 col3\" >0.931684</td>\n",
       "      <td id=\"T_29528_row1_col4\" class=\"data row1 col4\" >-0.175312</td>\n",
       "      <td id=\"T_29528_row1_col5\" class=\"data row1 col5\" >-0.055406</td>\n",
       "      <td id=\"T_29528_row1_col6\" class=\"data row1 col6\" >-0.000885</td>\n",
       "      <td id=\"T_29528_row1_col7\" class=\"data row1 col7\" >0.027929</td>\n",
       "    </tr>\n",
       "    <tr>\n",
       "      <th id=\"T_29528_level0_row2\" class=\"row_heading level0 row2\" >MWS@100m</th>\n",
       "      <td id=\"T_29528_row2_col0\" class=\"data row2 col0\" >0.957930</td>\n",
       "      <td id=\"T_29528_row2_col1\" class=\"data row2 col1\" >0.262210</td>\n",
       "      <td id=\"T_29528_row2_col2\" class=\"data row2 col2\" >1.000000</td>\n",
       "      <td id=\"T_29528_row2_col3\" class=\"data row2 col3\" >0.260870</td>\n",
       "      <td id=\"T_29528_row2_col4\" class=\"data row2 col4\" >-0.152442</td>\n",
       "      <td id=\"T_29528_row2_col5\" class=\"data row2 col5\" >-0.071088</td>\n",
       "      <td id=\"T_29528_row2_col6\" class=\"data row2 col6\" >-0.003049</td>\n",
       "      <td id=\"T_29528_row2_col7\" class=\"data row2 col7\" >-0.177225</td>\n",
       "    </tr>\n",
       "    <tr>\n",
       "      <th id=\"T_29528_level0_row3\" class=\"row_heading level0 row3\" >WD@100m</th>\n",
       "      <td id=\"T_29528_row3_col0\" class=\"data row3 col0\" >0.266631</td>\n",
       "      <td id=\"T_29528_row3_col1\" class=\"data row3 col1\" >0.931684</td>\n",
       "      <td id=\"T_29528_row3_col2\" class=\"data row3 col2\" >0.260870</td>\n",
       "      <td id=\"T_29528_row3_col3\" class=\"data row3 col3\" >1.000000</td>\n",
       "      <td id=\"T_29528_row3_col4\" class=\"data row3 col4\" >-0.155600</td>\n",
       "      <td id=\"T_29528_row3_col5\" class=\"data row3 col5\" >-0.044447</td>\n",
       "      <td id=\"T_29528_row3_col6\" class=\"data row3 col6\" >-0.001102</td>\n",
       "      <td id=\"T_29528_row3_col7\" class=\"data row3 col7\" >0.007365</td>\n",
       "    </tr>\n",
       "    <tr>\n",
       "      <th id=\"T_29528_level0_row4\" class=\"row_heading level0 row4\" >Temperature</th>\n",
       "      <td id=\"T_29528_row4_col0\" class=\"data row4 col0\" >-0.077316</td>\n",
       "      <td id=\"T_29528_row4_col1\" class=\"data row4 col1\" >-0.175312</td>\n",
       "      <td id=\"T_29528_row4_col2\" class=\"data row4 col2\" >-0.152442</td>\n",
       "      <td id=\"T_29528_row4_col3\" class=\"data row4 col3\" >-0.155600</td>\n",
       "      <td id=\"T_29528_row4_col4\" class=\"data row4 col4\" >1.000000</td>\n",
       "      <td id=\"T_29528_row4_col5\" class=\"data row4 col5\" >0.445701</td>\n",
       "      <td id=\"T_29528_row4_col6\" class=\"data row4 col6\" >-0.001589</td>\n",
       "      <td id=\"T_29528_row4_col7\" class=\"data row4 col7\" >-0.532397</td>\n",
       "    </tr>\n",
       "    <tr>\n",
       "      <th id=\"T_29528_level0_row5\" class=\"row_heading level0 row5\" >SolarRadiation</th>\n",
       "      <td id=\"T_29528_row5_col0\" class=\"data row5 col0\" >0.123942</td>\n",
       "      <td id=\"T_29528_row5_col1\" class=\"data row5 col1\" >-0.055406</td>\n",
       "      <td id=\"T_29528_row5_col2\" class=\"data row5 col2\" >-0.071088</td>\n",
       "      <td id=\"T_29528_row5_col3\" class=\"data row5 col3\" >-0.044447</td>\n",
       "      <td id=\"T_29528_row5_col4\" class=\"data row5 col4\" >0.445701</td>\n",
       "      <td id=\"T_29528_row5_col5\" class=\"data row5 col5\" >1.000000</td>\n",
       "      <td id=\"T_29528_row5_col6\" class=\"data row5 col6\" >-0.001942</td>\n",
       "      <td id=\"T_29528_row5_col7\" class=\"data row5 col7\" >-0.603485</td>\n",
       "    </tr>\n",
       "    <tr>\n",
       "      <th id=\"T_29528_level0_row6\" class=\"row_heading level0 row6\" >Stability</th>\n",
       "      <td id=\"T_29528_row6_col0\" class=\"data row6 col0\" >-0.003255</td>\n",
       "      <td id=\"T_29528_row6_col1\" class=\"data row6 col1\" >-0.000885</td>\n",
       "      <td id=\"T_29528_row6_col2\" class=\"data row6 col2\" >-0.003049</td>\n",
       "      <td id=\"T_29528_row6_col3\" class=\"data row6 col3\" >-0.001102</td>\n",
       "      <td id=\"T_29528_row6_col4\" class=\"data row6 col4\" >-0.001589</td>\n",
       "      <td id=\"T_29528_row6_col5\" class=\"data row6 col5\" >-0.001942</td>\n",
       "      <td id=\"T_29528_row6_col6\" class=\"data row6 col6\" >1.000000</td>\n",
       "      <td id=\"T_29528_row6_col7\" class=\"data row6 col7\" >0.002451</td>\n",
       "    </tr>\n",
       "    <tr>\n",
       "      <th id=\"T_29528_level0_row7\" class=\"row_heading level0 row7\" >Humidity</th>\n",
       "      <td id=\"T_29528_row7_col0\" class=\"data row7 col0\" >-0.269279</td>\n",
       "      <td id=\"T_29528_row7_col1\" class=\"data row7 col1\" >0.027929</td>\n",
       "      <td id=\"T_29528_row7_col2\" class=\"data row7 col2\" >-0.177225</td>\n",
       "      <td id=\"T_29528_row7_col3\" class=\"data row7 col3\" >0.007365</td>\n",
       "      <td id=\"T_29528_row7_col4\" class=\"data row7 col4\" >-0.532397</td>\n",
       "      <td id=\"T_29528_row7_col5\" class=\"data row7 col5\" >-0.603485</td>\n",
       "      <td id=\"T_29528_row7_col6\" class=\"data row7 col6\" >0.002451</td>\n",
       "      <td id=\"T_29528_row7_col7\" class=\"data row7 col7\" >1.000000</td>\n",
       "    </tr>\n",
       "  </tbody>\n",
       "</table>\n"
      ],
      "text/plain": [
       "<pandas.io.formats.style.Styler at 0x2df0356e740>"
      ]
     },
     "execution_count": 134,
     "metadata": {},
     "output_type": "execute_result"
    }
   ],
   "source": [
    "corr=df.corr(method='pearson')\n",
    "corr.style.background_gradient(cmap='coolwarm')"
   ]
  },
  {
   "cell_type": "code",
   "execution_count": 135,
   "id": "853580eb",
   "metadata": {},
   "outputs": [
    {
     "data": {
      "text/plain": [
       "1.0"
      ]
     },
     "execution_count": 135,
     "metadata": {},
     "output_type": "execute_result"
    }
   ],
   "source": [
    "df['MWS@10m'].corr(df['MWS@10m'])"
   ]
  },
  {
   "cell_type": "code",
   "execution_count": 136,
   "id": "aa952113",
   "metadata": {},
   "outputs": [
    {
     "name": "stderr",
     "output_type": "stream",
     "text": [
      "No artists with labels found to put in legend.  Note that artists whose label start with an underscore are ignored when legend() is called with no argument.\n"
     ]
    },
    {
     "data": {
      "image/png": "[encoded data removed]",
      "text/plain": [
       "<Figure size 432x288 with 1 Axes>"
      ]
     },
     "metadata": {
      "needs_background": "light"
     },
     "output_type": "display_data"
    }
   ],
   "source": [
    "plt.scatter(df['MWS@10m'],df['MWS@100m'])\n",
    "plt.title(\"Correlation between MWS@10m and MWS@10m\")\n",
    "plt.legend()\n",
    "plt.show()"
   ]
  },
  {
   "cell_type": "code",
   "execution_count": 137,
   "id": "0573fc4d",
   "metadata": {},
   "outputs": [
    {
     "data": {
      "text/plain": [
       "0.9316837391776707"
      ]
     },
     "execution_count": 137,
     "metadata": {},
     "output_type": "execute_result"
    }
   ],
   "source": [
    "df['WD@100m'].corr(df['WD@10m'])"
   ]
  },
  {
   "cell_type": "code",
   "execution_count": 138,
   "id": "0d3031b0",
   "metadata": {},
   "outputs": [
    {
     "name": "stderr",
     "output_type": "stream",
     "text": [
      "No artists with labels found to put in legend.  Note that artists whose label start with an underscore are ignored when legend() is called with no argument.\n"
     ]
    },
    {
     "data": {
      "image/png": "[encoded data removed]",
      "text/plain": [
       "<Figure size 432x288 with 1 Axes>"
      ]
     },
     "metadata": {
      "needs_background": "light"
     },
     "output_type": "display_data"
    }
   ],
   "source": [
    "plt.scatter(df['WD@100m'],df['WD@10m'])\n",
    "plt.title(\"Correlation between WD@100m and WD@10m\")\n",
    "plt.legend()\n",
    "plt.show()"
   ]
  },
  {
   "cell_type": "code",
   "execution_count": 139,
   "id": "07253af8",
   "metadata": {},
   "outputs": [
    {
     "data": {
      "text/html": [
       "<div>\n",
       "<style scoped>\n",
       "    .dataframe tbody tr th:only-of-type {\n",
       "        vertical-align: middle;\n",
       "    }\n",
       "\n",
       "    .dataframe tbody tr th {\n",
       "        vertical-align: top;\n",
       "    }\n",
       "\n",
       "    .dataframe thead th {\n",
       "        text-align: right;\n",
       "    }\n",
       "</style>\n",
       "<table border=\"1\" class=\"dataframe\">\n",
       "  <thead>\n",
       "    <tr style=\"text-align: right;\">\n",
       "      <th></th>\n",
       "      <th>TimeStamp</th>\n",
       "      <th>MWS@100m</th>\n",
       "      <th>WD@100m</th>\n",
       "      <th>Temperature</th>\n",
       "      <th>SolarRadiation</th>\n",
       "      <th>Stability</th>\n",
       "      <th>Humidity</th>\n",
       "    </tr>\n",
       "  </thead>\n",
       "  <tbody>\n",
       "    <tr>\n",
       "      <th>1</th>\n",
       "      <td>1/1/1988 1:00</td>\n",
       "      <td>2.80</td>\n",
       "      <td>195.2</td>\n",
       "      <td>8.9</td>\n",
       "      <td>0.0</td>\n",
       "      <td>0.381427</td>\n",
       "      <td>90.4</td>\n",
       "    </tr>\n",
       "    <tr>\n",
       "      <th>2</th>\n",
       "      <td>1/1/1988 2:00</td>\n",
       "      <td>2.80</td>\n",
       "      <td>216.6</td>\n",
       "      <td>9.1</td>\n",
       "      <td>0.0</td>\n",
       "      <td>0.705773</td>\n",
       "      <td>92.9</td>\n",
       "    </tr>\n",
       "    <tr>\n",
       "      <th>3</th>\n",
       "      <td>1/1/1988 3:00</td>\n",
       "      <td>3.85</td>\n",
       "      <td>256.8</td>\n",
       "      <td>8.3</td>\n",
       "      <td>0.0</td>\n",
       "      <td>1.815180</td>\n",
       "      <td>95.4</td>\n",
       "    </tr>\n",
       "    <tr>\n",
       "      <th>4</th>\n",
       "      <td>1/1/1988 4:00</td>\n",
       "      <td>5.10</td>\n",
       "      <td>282.2</td>\n",
       "      <td>7.5</td>\n",
       "      <td>0.0</td>\n",
       "      <td>2.294050</td>\n",
       "      <td>92.9</td>\n",
       "    </tr>\n",
       "    <tr>\n",
       "      <th>5</th>\n",
       "      <td>1/1/1988 5:00</td>\n",
       "      <td>5.17</td>\n",
       "      <td>292.2</td>\n",
       "      <td>7.4</td>\n",
       "      <td>0.0</td>\n",
       "      <td>1.405246</td>\n",
       "      <td>92.7</td>\n",
       "    </tr>\n",
       "  </tbody>\n",
       "</table>\n",
       "</div>"
      ],
      "text/plain": [
       "       TimeStamp  MWS@100m  WD@100m  Temperature  SolarRadiation  Stability  \\\n",
       "1  1/1/1988 1:00      2.80    195.2          8.9             0.0   0.381427   \n",
       "2  1/1/1988 2:00      2.80    216.6          9.1             0.0   0.705773   \n",
       "3  1/1/1988 3:00      3.85    256.8          8.3             0.0   1.815180   \n",
       "4  1/1/1988 4:00      5.10    282.2          7.5             0.0   2.294050   \n",
       "5  1/1/1988 5:00      5.17    292.2          7.4             0.0   1.405246   \n",
       "\n",
       "   Humidity  \n",
       "1      90.4  \n",
       "2      92.9  \n",
       "3      95.4  \n",
       "4      92.9  \n",
       "5      92.7  "
      ]
     },
     "execution_count": 139,
     "metadata": {},
     "output_type": "execute_result"
    }
   ],
   "source": [
    "df.drop(columns=['MWS@10m'],inplace=True)\n",
    "df.drop(columns=['WD@10m'],inplace=True)\n",
    "df.head()"
   ]
  },
  {
   "cell_type": "code",
   "execution_count": 140,
   "id": "a89d52d0",
   "metadata": {},
   "outputs": [
    {
     "data": {
      "text/html": [
       "<div>\n",
       "<style scoped>\n",
       "    .dataframe tbody tr th:only-of-type {\n",
       "        vertical-align: middle;\n",
       "    }\n",
       "\n",
       "    .dataframe tbody tr th {\n",
       "        vertical-align: top;\n",
       "    }\n",
       "\n",
       "    .dataframe thead th {\n",
       "        text-align: right;\n",
       "    }\n",
       "</style>\n",
       "<table border=\"1\" class=\"dataframe\">\n",
       "  <thead>\n",
       "    <tr style=\"text-align: right;\">\n",
       "      <th></th>\n",
       "      <th>TimeStamp</th>\n",
       "      <th>MWS@100m</th>\n",
       "      <th>WD@100m</th>\n",
       "      <th>Temperature</th>\n",
       "      <th>SolarRadiation</th>\n",
       "      <th>Stability</th>\n",
       "      <th>Humidity</th>\n",
       "    </tr>\n",
       "  </thead>\n",
       "  <tbody>\n",
       "    <tr>\n",
       "      <th>290860</th>\n",
       "      <td>3/7/2021 4:00</td>\n",
       "      <td>5.84</td>\n",
       "      <td>160.8</td>\n",
       "      <td>12.0</td>\n",
       "      <td>0.0</td>\n",
       "      <td>0.082669</td>\n",
       "      <td>85.9</td>\n",
       "    </tr>\n",
       "  </tbody>\n",
       "</table>\n",
       "</div>"
      ],
      "text/plain": [
       "            TimeStamp  MWS@100m  WD@100m  Temperature  SolarRadiation  \\\n",
       "290860  3/7/2021 4:00      5.84    160.8         12.0             0.0   \n",
       "\n",
       "        Stability  Humidity  \n",
       "290860   0.082669      85.9  "
      ]
     },
     "execution_count": 140,
     "metadata": {},
     "output_type": "execute_result"
    }
   ],
   "source": [
    "df[df['TimeStamp']=='3/7/2021 4:00']"
   ]
  },
  {
   "cell_type": "code",
   "execution_count": 141,
   "id": "cca02591",
   "metadata": {},
   "outputs": [
    {
     "data": {
      "text/plain": [
       "45.5"
      ]
     },
     "execution_count": 141,
     "metadata": {},
     "output_type": "execute_result"
    }
   ],
   "source": [
    "max(df['Temperature'])"
   ]
  },
  {
   "cell_type": "code",
   "execution_count": 142,
   "id": "61000e88",
   "metadata": {},
   "outputs": [
    {
     "data": {
      "text/plain": [
       "136970"
      ]
     },
     "execution_count": 142,
     "metadata": {},
     "output_type": "execute_result"
    }
   ],
   "source": [
    "df['SolarRadiation'].value_counts()[0]"
   ]
  },
  {
   "cell_type": "code",
   "execution_count": 143,
   "id": "c61f5de3",
   "metadata": {},
   "outputs": [
    {
     "data": {
      "text/html": [
       "<div>\n",
       "<style scoped>\n",
       "    .dataframe tbody tr th:only-of-type {\n",
       "        vertical-align: middle;\n",
       "    }\n",
       "\n",
       "    .dataframe tbody tr th {\n",
       "        vertical-align: top;\n",
       "    }\n",
       "\n",
       "    .dataframe thead th {\n",
       "        text-align: right;\n",
       "    }\n",
       "</style>\n",
       "<table border=\"1\" class=\"dataframe\">\n",
       "  <thead>\n",
       "    <tr style=\"text-align: right;\">\n",
       "      <th></th>\n",
       "      <th>TimeStamp</th>\n",
       "      <th>MWS@100m</th>\n",
       "      <th>WD@100m</th>\n",
       "      <th>Temperature</th>\n",
       "      <th>SolarRadiation</th>\n",
       "      <th>Stability</th>\n",
       "      <th>Humidity</th>\n",
       "    </tr>\n",
       "  </thead>\n",
       "  <tbody>\n",
       "    <tr>\n",
       "      <th>1</th>\n",
       "      <td>1/1/1988 1:00</td>\n",
       "      <td>2.80</td>\n",
       "      <td>195.2</td>\n",
       "      <td>8.9</td>\n",
       "      <td>0.0</td>\n",
       "      <td>0.381427</td>\n",
       "      <td>90.4</td>\n",
       "    </tr>\n",
       "    <tr>\n",
       "      <th>2</th>\n",
       "      <td>1/1/1988 2:00</td>\n",
       "      <td>2.80</td>\n",
       "      <td>216.6</td>\n",
       "      <td>9.1</td>\n",
       "      <td>0.0</td>\n",
       "      <td>0.705773</td>\n",
       "      <td>92.9</td>\n",
       "    </tr>\n",
       "    <tr>\n",
       "      <th>3</th>\n",
       "      <td>1/1/1988 3:00</td>\n",
       "      <td>3.85</td>\n",
       "      <td>256.8</td>\n",
       "      <td>8.3</td>\n",
       "      <td>0.0</td>\n",
       "      <td>1.815180</td>\n",
       "      <td>95.4</td>\n",
       "    </tr>\n",
       "    <tr>\n",
       "      <th>4</th>\n",
       "      <td>1/1/1988 4:00</td>\n",
       "      <td>5.10</td>\n",
       "      <td>282.2</td>\n",
       "      <td>7.5</td>\n",
       "      <td>0.0</td>\n",
       "      <td>2.294050</td>\n",
       "      <td>92.9</td>\n",
       "    </tr>\n",
       "    <tr>\n",
       "      <th>5</th>\n",
       "      <td>1/1/1988 5:00</td>\n",
       "      <td>5.17</td>\n",
       "      <td>292.2</td>\n",
       "      <td>7.4</td>\n",
       "      <td>0.0</td>\n",
       "      <td>1.405246</td>\n",
       "      <td>92.7</td>\n",
       "    </tr>\n",
       "  </tbody>\n",
       "</table>\n",
       "</div>"
      ],
      "text/plain": [
       "       TimeStamp  MWS@100m  WD@100m  Temperature  SolarRadiation  Stability  \\\n",
       "1  1/1/1988 1:00      2.80    195.2          8.9             0.0   0.381427   \n",
       "2  1/1/1988 2:00      2.80    216.6          9.1             0.0   0.705773   \n",
       "3  1/1/1988 3:00      3.85    256.8          8.3             0.0   1.815180   \n",
       "4  1/1/1988 4:00      5.10    282.2          7.5             0.0   2.294050   \n",
       "5  1/1/1988 5:00      5.17    292.2          7.4             0.0   1.405246   \n",
       "\n",
       "   Humidity  \n",
       "1      90.4  \n",
       "2      92.9  \n",
       "3      95.4  \n",
       "4      92.9  \n",
       "5      92.7  "
      ]
     },
     "execution_count": 143,
     "metadata": {},
     "output_type": "execute_result"
    }
   ],
   "source": [
    "#df.drop(columns=['TimeStamp'],inplace=True)\n",
    "df.head()"
   ]
  },
  {
   "cell_type": "code",
   "execution_count": 188,
   "id": "528a4f3a",
   "metadata": {},
   "outputs": [],
   "source": [
    "df[\"TimeStamp\"] = pd.to_datetime(df[\"TimeStamp\"])"
   ]
  },
  {
   "cell_type": "code",
   "execution_count": 191,
   "id": "75d3ed18",
   "metadata": {},
   "outputs": [
    {
     "data": {
      "text/html": [
       "<div>\n",
       "<style scoped>\n",
       "    .dataframe tbody tr th:only-of-type {\n",
       "        vertical-align: middle;\n",
       "    }\n",
       "\n",
       "    .dataframe tbody tr th {\n",
       "        vertical-align: top;\n",
       "    }\n",
       "\n",
       "    .dataframe thead th {\n",
       "        text-align: right;\n",
       "    }\n",
       "</style>\n",
       "<table border=\"1\" class=\"dataframe\">\n",
       "  <thead>\n",
       "    <tr style=\"text-align: right;\">\n",
       "      <th></th>\n",
       "      <th>Date</th>\n",
       "      <th>Humidity</th>\n",
       "      <th>MWS@100m</th>\n",
       "      <th>SolarRadiation</th>\n",
       "      <th>Stability</th>\n",
       "      <th>Temperature</th>\n",
       "      <th>WD@100m</th>\n",
       "    </tr>\n",
       "  </thead>\n",
       "  <tbody>\n",
       "    <tr>\n",
       "      <th>0</th>\n",
       "      <td>1/1988</td>\n",
       "      <td>77.44</td>\n",
       "      <td>7.30</td>\n",
       "      <td>104.46</td>\n",
       "      <td>1.95</td>\n",
       "      <td>13.23</td>\n",
       "      <td>243.04</td>\n",
       "    </tr>\n",
       "    <tr>\n",
       "      <th>1</th>\n",
       "      <td>2/1988</td>\n",
       "      <td>76.29</td>\n",
       "      <td>7.34</td>\n",
       "      <td>141.27</td>\n",
       "      <td>-0.09</td>\n",
       "      <td>12.08</td>\n",
       "      <td>237.59</td>\n",
       "    </tr>\n",
       "    <tr>\n",
       "      <th>2</th>\n",
       "      <td>3/1988</td>\n",
       "      <td>71.50</td>\n",
       "      <td>8.85</td>\n",
       "      <td>205.01</td>\n",
       "      <td>0.04</td>\n",
       "      <td>13.60</td>\n",
       "      <td>268.69</td>\n",
       "    </tr>\n",
       "    <tr>\n",
       "      <th>3</th>\n",
       "      <td>4/1988</td>\n",
       "      <td>76.67</td>\n",
       "      <td>6.22</td>\n",
       "      <td>246.89</td>\n",
       "      <td>0.07</td>\n",
       "      <td>15.86</td>\n",
       "      <td>201.84</td>\n",
       "    </tr>\n",
       "    <tr>\n",
       "      <th>4</th>\n",
       "      <td>5/1988</td>\n",
       "      <td>73.11</td>\n",
       "      <td>5.44</td>\n",
       "      <td>268.97</td>\n",
       "      <td>0.66</td>\n",
       "      <td>20.19</td>\n",
       "      <td>203.87</td>\n",
       "    </tr>\n",
       "  </tbody>\n",
       "</table>\n",
       "</div>"
      ],
      "text/plain": [
       "     Date  Humidity  MWS@100m  SolarRadiation  Stability  Temperature  WD@100m\n",
       "0  1/1988     77.44      7.30          104.46       1.95        13.23   243.04\n",
       "1  2/1988     76.29      7.34          141.27      -0.09        12.08   237.59\n",
       "2  3/1988     71.50      8.85          205.01       0.04        13.60   268.69\n",
       "3  4/1988     76.67      6.22          246.89       0.07        15.86   201.84\n",
       "4  5/1988     73.11      5.44          268.97       0.66        20.19   203.87"
      ]
     },
     "execution_count": 191,
     "metadata": {},
     "output_type": "execute_result"
    }
   ],
   "source": [
    "new_df = df.copy()\n",
    "new_df = df.groupby([df['TimeStamp'].dt.year, df['TimeStamp'].dt.month])\\\n",
    "                    [df.columns.difference([\"TimeStamp\"])].agg('mean').round(2)\n",
    "\n",
    "test = new_df.reset_index(level = 1).rename({\"TimeStamp\":\"Month\"}, axis = 1)\\\n",
    "            .reset_index().rename({\"TimeStamp\":\"Year\"}, axis = 1)\n",
    "\n",
    "test[\"Date\"] = test[\"Month\"].astype(\"str\") +\"/\"+ test[\"Year\"].astype(\"str\")\n",
    "test.drop([\"Year\", \"Month\"], axis = 1, inplace = True)\n",
    "\n",
    "columns = list(test.columns)\n",
    "l = []\n",
    "l.append(columns.pop())\n",
    "new_columns = l + columns\n",
    "\n",
    "test = test[new_columns]\n",
    "test.head()"
   ]
  },
  {
   "cell_type": "code",
   "execution_count": 144,
   "id": "bc3e3c04",
   "metadata": {},
   "outputs": [],
   "source": [
    "x = df[['Temperature','Humidity']] # 1t for rows and second for columns"
   ]
  },
  {
   "cell_type": "code",
   "execution_count": 145,
   "id": "7eded2be",
   "metadata": {},
   "outputs": [
    {
     "name": "stderr",
     "output_type": "stream",
     "text": [
      "C:\\Users\\alaba\\AppData\\Local\\Temp\\ipykernel_21532\\3535246779.py:1: SettingWithCopyWarning: \n",
      "A value is trying to be set on a copy of a slice from a DataFrame\n",
      "\n",
      "See the caveats in the documentation: https://pandas.pydata.org/pandas-docs/stable/user_guide/indexing.html#returning-a-view-versus-a-copy\n",
      "  x.dropna(inplace=True)\n"
     ]
    },
    {
     "data": {
      "text/html": [
       "<style>#sk-container-id-5 {color: black;background-color: white;}#sk-container-id-5 pre{padding: 0;}#sk-container-id-5 div.sk-toggleable {background-color: white;}#sk-container-id-5 label.sk-toggleable__label {cursor: pointer;display: block;width: 100%;margin-bottom: 0;padding: 0.3em;box-sizing: border-box;text-align: center;}#sk-container-id-5 label.sk-toggleable__label-arrow:before {content: \"▸\";float: left;margin-right: 0.25em;color: #696969;}#sk-container-id-5 label.sk-toggleable__label-arrow:hover:before {color: black;}#sk-container-id-5 div.sk-estimator:hover label.sk-toggleable__label-arrow:before {color: black;}#sk-container-id-5 div.sk-toggleable__content {max-height: 0;max-width: 0;overflow: hidden;text-align: left;background-color: #f0f8ff;}#sk-container-id-5 div.sk-toggleable__content pre {margin: 0.2em;color: black;border-radius: 0.25em;background-color: #f0f8ff;}#sk-container-id-5 input.sk-toggleable__control:checked~div.sk-toggleable__content {max-height: 200px;max-width: 100%;overflow: auto;}#sk-container-id-5 input.sk-toggleable__control:checked~label.sk-toggleable__label-arrow:before {content: \"▾\";}#sk-container-id-5 div.sk-estimator input.sk-toggleable__control:checked~label.sk-toggleable__label {background-color: #d4ebff;}#sk-container-id-5 div.sk-label input.sk-toggleable__control:checked~label.sk-toggleable__label {background-color: #d4ebff;}#sk-container-id-5 input.sk-hidden--visually {border: 0;clip: rect(1px 1px 1px 1px);clip: rect(1px, 1px, 1px, 1px);height: 1px;margin: -1px;overflow: hidden;padding: 0;position: absolute;width: 1px;}#sk-container-id-5 div.sk-estimator {font-family: monospace;background-color: #f0f8ff;border: 1px dotted black;border-radius: 0.25em;box-sizing: border-box;margin-bottom: 0.5em;}#sk-container-id-5 div.sk-estimator:hover {background-color: #d4ebff;}#sk-container-id-5 div.sk-parallel-item::after {content: \"\";width: 100%;border-bottom: 1px solid gray;flex-grow: 1;}#sk-container-id-5 div.sk-label:hover label.sk-toggleable__label {background-color: #d4ebff;}#sk-container-id-5 div.sk-serial::before {content: \"\";position: absolute;border-left: 1px solid gray;box-sizing: border-box;top: 0;bottom: 0;left: 50%;z-index: 0;}#sk-container-id-5 div.sk-serial {display: flex;flex-direction: column;align-items: center;background-color: white;padding-right: 0.2em;padding-left: 0.2em;position: relative;}#sk-container-id-5 div.sk-item {position: relative;z-index: 1;}#sk-container-id-5 div.sk-parallel {display: flex;align-items: stretch;justify-content: center;background-color: white;position: relative;}#sk-container-id-5 div.sk-item::before, #sk-container-id-5 div.sk-parallel-item::before {content: \"\";position: absolute;border-left: 1px solid gray;box-sizing: border-box;top: 0;bottom: 0;left: 50%;z-index: -1;}#sk-container-id-5 div.sk-parallel-item {display: flex;flex-direction: column;z-index: 1;position: relative;background-color: white;}#sk-container-id-5 div.sk-parallel-item:first-child::after {align-self: flex-end;width: 50%;}#sk-container-id-5 div.sk-parallel-item:last-child::after {align-self: flex-start;width: 50%;}#sk-container-id-5 div.sk-parallel-item:only-child::after {width: 0;}#sk-container-id-5 div.sk-dashed-wrapped {border: 1px dashed gray;margin: 0 0.4em 0.5em 0.4em;box-sizing: border-box;padding-bottom: 0.4em;background-color: white;}#sk-container-id-5 div.sk-label label {font-family: monospace;font-weight: bold;display: inline-block;line-height: 1.2em;}#sk-container-id-5 div.sk-label-container {text-align: center;}#sk-container-id-5 div.sk-container {/* jupyter's `normalize.less` sets `[hidden] { display: none; }` but bootstrap.min.css set `[hidden] { display: none !important; }` so we also need the `!important` here to be able to override the default hidden behavior on the sphinx rendered scikit-learn.org. See: https://github.com/scikit-learn/scikit-learn/issues/21755 */display: inline-block !important;position: relative;}#sk-container-id-5 div.sk-text-repr-fallback {display: none;}</style><div id=\"sk-container-id-5\" class=\"sk-top-container\"><div class=\"sk-text-repr-fallback\"><pre>KMeans(n_clusters=3)</pre><b>In a Jupyter environment, please rerun this cell to show the HTML representation or trust the notebook. <br />On GitHub, the HTML representation is unable to render, please try loading this page with nbviewer.org.</b></div><div class=\"sk-container\" hidden><div class=\"sk-item\"><div class=\"sk-estimator sk-toggleable\"><input class=\"sk-toggleable__control sk-hidden--visually\" id=\"sk-estimator-id-5\" type=\"checkbox\" checked><label for=\"sk-estimator-id-5\" class=\"sk-toggleable__label sk-toggleable__label-arrow\">KMeans</label><div class=\"sk-toggleable__content\"><pre>KMeans(n_clusters=3)</pre></div></div></div></div></div>"
      ],
      "text/plain": [
       "KMeans(n_clusters=3)"
      ]
     },
     "execution_count": 145,
     "metadata": {},
     "output_type": "execute_result"
    }
   ],
   "source": [
    "x.dropna(inplace=True)\n",
    "kmeans = KMeans(3)\n",
    "kmeans.fit(x)"
   ]
  },
  {
   "cell_type": "code",
   "execution_count": 146,
   "id": "bf1fcee4",
   "metadata": {},
   "outputs": [
    {
     "data": {
      "text/plain": [
       "104620"
      ]
     },
     "execution_count": 146,
     "metadata": {},
     "output_type": "execute_result"
    }
   ],
   "source": [
    "identified_clusters = kmeans.fit_predict(x)\n",
    "list(identified_clusters).count(2)"
   ]
  },
  {
   "cell_type": "code",
   "execution_count": 201,
   "id": "8d1a9943",
   "metadata": {},
   "outputs": [
    {
     "data": {
      "text/plain": [
       "array([2, 0, 1])"
      ]
     },
     "execution_count": 201,
     "metadata": {},
     "output_type": "execute_result"
    }
   ],
   "source": [
    "kmeans.fit_predict([[2.80,195.2,14,81],[2.80,195.2,1,50],[2.80,195.2,17,77]])"
   ]
  },
  {
   "cell_type": "markdown",
   "id": "a4abc567",
   "metadata": {},
   "source": [
    "## Indentifying to wich Image Cluster corresponds the Panel Data"
   ]
  },
  {
   "cell_type": "code",
   "execution_count": 167,
   "id": "d4b50faf",
   "metadata": {},
   "outputs": [],
   "source": [
    "def load_image(code=\"V1\",DIR=\"./lake_img\",folder_name=\"V1-high\",file=\"high_11_2014.jpg\"):\n",
    "  file_path = os.path.join(str(DIR),str(folder_name),str(file))\n",
    "             # Read the image\n",
    "  image = cv2.imread(file_path)\n",
    "\n",
    "            # Resize it to 224 x 224 \n",
    "  image = cv2.resize(image, (224,224))\n",
    "\n",
    "            # Convert it from BGR to RGB so we can plot them later (because openCV reads images as BGR)\n",
    "  image = cv2.cvtColor(image, cv2.COLOR_BGR2RGB)\n",
    "  images=[image]\n",
    "  codes=[code]  \n",
    "  images,labs=normalise_images(images,codes)\n",
    "  return images,labs"
   ]
  },
  {
   "cell_type": "code",
   "execution_count": 276,
   "id": "0cad0d75",
   "metadata": {},
   "outputs": [],
   "source": [
    "def full_pred_function(image,label):\n",
    "  vgg16_output_1 = covnet_transform(vgg16_model, image)\n",
    "  \n",
    "\n",
    "  vgg19_output_1 = covnet_transform(vgg19_model, image)\n",
    "  \n",
    "\n",
    "  resnet50_output_1 = covnet_transform(resnet50_model,image)\n",
    "\n",
    "  k_vgg16_pred = K_vgg16.predict(vgg16_output_1)\n",
    "  k_vgg19_pred = K_vgg19.predict(vgg19_output_1)\n",
    "  k_resnet50_pred = K_resnet50.predict(resnet50_output_1)\n",
    "  return( k_vgg16_pred,k_vgg19_pred,k_resnet50_pred)"
   ]
  },
  {
   "cell_type": "code",
   "execution_count": 278,
   "id": "bf901ec7",
   "metadata": {},
   "outputs": [
    {
     "name": "stdout",
     "output_type": "stream",
     "text": [
      "1/1 [==============================] - 0s 214ms/step\n",
      "1/1 [==============================] - 0s 277ms/step\n",
      "1/1 [==============================] - 0s 175ms/step\n"
     ]
    },
    {
     "data": {
      "text/plain": [
       "(array([1]), array([1]), array([1]))"
      ]
     },
     "execution_count": 278,
     "metadata": {},
     "output_type": "execute_result"
    }
   ],
   "source": [
    "image,lab=load_image(code=\"V1\",DIR=\"./lake_img\",folder_name=\"V1-high\",file=\"high_6_2010.jpg\")\n",
    "full_pred_function(image,lab)"
   ]
  },
  {
   "cell_type": "markdown",
   "id": "2aeb10ab",
   "metadata": {},
   "source": [
    "The date 9/2001 corresponds to the VGG 19  image cluster number 2 .\n",
    "\n",
    "The date 6/2010 corresponds to the VGG 19  image cluster number 1 .\n",
    "\n",
    "The date 11/2014 corresponds to the VGG 19 image cluster number 0 ."
   ]
  },
  {
   "cell_type": "code",
   "execution_count": 202,
   "id": "71241c15",
   "metadata": {},
   "outputs": [
    {
     "data": {
      "text/html": [
       "<div>\n",
       "<style scoped>\n",
       "    .dataframe tbody tr th:only-of-type {\n",
       "        vertical-align: middle;\n",
       "    }\n",
       "\n",
       "    .dataframe tbody tr th {\n",
       "        vertical-align: top;\n",
       "    }\n",
       "\n",
       "    .dataframe thead th {\n",
       "        text-align: right;\n",
       "    }\n",
       "</style>\n",
       "<table border=\"1\" class=\"dataframe\">\n",
       "  <thead>\n",
       "    <tr style=\"text-align: right;\">\n",
       "      <th></th>\n",
       "      <th>Date</th>\n",
       "      <th>Humidity</th>\n",
       "      <th>MWS@100m</th>\n",
       "      <th>SolarRadiation</th>\n",
       "      <th>Stability</th>\n",
       "      <th>Temperature</th>\n",
       "      <th>WD@100m</th>\n",
       "    </tr>\n",
       "  </thead>\n",
       "  <tbody>\n",
       "    <tr>\n",
       "      <th>269</th>\n",
       "      <td>6/2010</td>\n",
       "      <td>70.31</td>\n",
       "      <td>6.17</td>\n",
       "      <td>306.66</td>\n",
       "      <td>0.2</td>\n",
       "      <td>22.76</td>\n",
       "      <td>224.23</td>\n",
       "    </tr>\n",
       "  </tbody>\n",
       "</table>\n",
       "</div>"
      ],
      "text/plain": [
       "       Date  Humidity  MWS@100m  SolarRadiation  Stability  Temperature  \\\n",
       "269  6/2010     70.31      6.17          306.66        0.2        22.76   \n",
       "\n",
       "     WD@100m  \n",
       "269   224.23  "
      ]
     },
     "execution_count": 202,
     "metadata": {},
     "output_type": "execute_result"
    }
   ],
   "source": [
    "test[test['Date']=='6/2010']"
   ]
  },
  {
   "cell_type": "markdown",
   "id": "2a06632e",
   "metadata": {},
   "source": [
    "We take the above row as the characterization vector of the image cluster 1 ."
   ]
  },
  {
   "cell_type": "code",
   "execution_count": 199,
   "id": "674e9264",
   "metadata": {},
   "outputs": [
    {
     "data": {
      "text/html": [
       "<div>\n",
       "<style scoped>\n",
       "    .dataframe tbody tr th:only-of-type {\n",
       "        vertical-align: middle;\n",
       "    }\n",
       "\n",
       "    .dataframe tbody tr th {\n",
       "        vertical-align: top;\n",
       "    }\n",
       "\n",
       "    .dataframe thead th {\n",
       "        text-align: right;\n",
       "    }\n",
       "</style>\n",
       "<table border=\"1\" class=\"dataframe\">\n",
       "  <thead>\n",
       "    <tr style=\"text-align: right;\">\n",
       "      <th></th>\n",
       "      <th>Date</th>\n",
       "      <th>Humidity</th>\n",
       "      <th>MWS@100m</th>\n",
       "      <th>SolarRadiation</th>\n",
       "      <th>Stability</th>\n",
       "      <th>Temperature</th>\n",
       "      <th>WD@100m</th>\n",
       "    </tr>\n",
       "  </thead>\n",
       "  <tbody>\n",
       "    <tr>\n",
       "      <th>322</th>\n",
       "      <td>11/2014</td>\n",
       "      <td>74.03</td>\n",
       "      <td>5.86</td>\n",
       "      <td>109.76</td>\n",
       "      <td>0.02</td>\n",
       "      <td>18.78</td>\n",
       "      <td>197.45</td>\n",
       "    </tr>\n",
       "  </tbody>\n",
       "</table>\n",
       "</div>"
      ],
      "text/plain": [
       "        Date  Humidity  MWS@100m  SolarRadiation  Stability  Temperature  \\\n",
       "322  11/2014     74.03      5.86          109.76       0.02        18.78   \n",
       "\n",
       "     WD@100m  \n",
       "322   197.45  "
      ]
     },
     "execution_count": 199,
     "metadata": {},
     "output_type": "execute_result"
    }
   ],
   "source": [
    "test[test['Date']=='11/2014']\n"
   ]
  },
  {
   "cell_type": "code",
   "execution_count": 200,
   "id": "d67b0f9a",
   "metadata": {},
   "outputs": [
    {
     "data": {
      "text/html": [
       "<div>\n",
       "<style scoped>\n",
       "    .dataframe tbody tr th:only-of-type {\n",
       "        vertical-align: middle;\n",
       "    }\n",
       "\n",
       "    .dataframe tbody tr th {\n",
       "        vertical-align: top;\n",
       "    }\n",
       "\n",
       "    .dataframe thead th {\n",
       "        text-align: right;\n",
       "    }\n",
       "</style>\n",
       "<table border=\"1\" class=\"dataframe\">\n",
       "  <thead>\n",
       "    <tr style=\"text-align: right;\">\n",
       "      <th></th>\n",
       "      <th>Date</th>\n",
       "      <th>Humidity</th>\n",
       "      <th>MWS@100m</th>\n",
       "      <th>SolarRadiation</th>\n",
       "      <th>Stability</th>\n",
       "      <th>Temperature</th>\n",
       "      <th>WD@100m</th>\n",
       "    </tr>\n",
       "  </thead>\n",
       "  <tbody>\n",
       "    <tr>\n",
       "      <th>164</th>\n",
       "      <td>9/2001</td>\n",
       "      <td>72.3</td>\n",
       "      <td>5.35</td>\n",
       "      <td>220.96</td>\n",
       "      <td>0.71</td>\n",
       "      <td>23.83</td>\n",
       "      <td>234.96</td>\n",
       "    </tr>\n",
       "  </tbody>\n",
       "</table>\n",
       "</div>"
      ],
      "text/plain": [
       "       Date  Humidity  MWS@100m  SolarRadiation  Stability  Temperature  \\\n",
       "164  9/2001      72.3      5.35          220.96       0.71        23.83   \n",
       "\n",
       "     WD@100m  \n",
       "164   234.96  "
      ]
     },
     "execution_count": 200,
     "metadata": {},
     "output_type": "execute_result"
    }
   ],
   "source": [
    "test[test['Date']=='9/2001']"
   ]
  },
  {
   "cell_type": "code",
   "execution_count": 223,
   "id": "51d6584b",
   "metadata": {},
   "outputs": [
    {
     "data": {
      "text/plain": [
       "array([0, 1, 2])"
      ]
     },
     "execution_count": 223,
     "metadata": {},
     "output_type": "execute_result"
    }
   ],
   "source": [
    "kmeans.fit_predict([[6.17,224.23,22.76,70.31],[5.86,197.45,18.78,74.03],[5.35,234.96,22.83,72.3]])"
   ]
  },
  {
   "cell_type": "markdown",
   "id": "78f3e220",
   "metadata": {},
   "source": [
    "Now we identify that the data cluster number 0 corresponds to the image cluster number 1 ,the data cluster number 1 corresponds to the image cluster number 0, and the data cluster number 2 corresponds to the image cluster number 2"
   ]
  },
  {
   "cell_type": "code",
   "execution_count": 238,
   "id": "80972555",
   "metadata": {},
   "outputs": [],
   "source": [
    "def final_prediction(L): # L has to be a list of > 3 lists with each having 4 values\n",
    "    figure, axis = plt.subplots(1, len(L))\n",
    "    k_pred=kmeans.fit_predict(L)\n",
    "    image_0,lab_0=load_image(code=\"V1\",DIR=\"./lake_img\",folder_name=\"V1-high\",file=\"high_11_2014.jpg\")\n",
    "    image_1,lab_1=load_image(code=\"V1\",DIR=\"./lake_img\",folder_name=\"V1-high\",file=\"high_6_2010.jpg\")\n",
    "    image_2,lab_2=load_image(code=\"V2\",DIR=\"./lake_img\",folder_name=\"V2-meduim\",file=\"meduim_9_2001.jpg\")\n",
    "    for i in range(len(L)):\n",
    "        if(k_pred[i]==1):\n",
    "            axis[i].imshow(image_0[0])\n",
    "        elif(k_pred[i]==0):\n",
    "            axis[i].imshow(image_1[0])\n",
    "        else :\n",
    "            axis[i].imshow(image_2[0])\n",
    "    plt.show()\n",
    "    \n"
   ]
  },
  {
   "cell_type": "code",
   "execution_count": 239,
   "id": "f412a6ea",
   "metadata": {},
   "outputs": [
    {
     "data": {
      "image/png": "[encoded data removed]",
      "text/plain": [
       "<Figure size 432x288 with 3 Axes>"
      ]
     },
     "metadata": {
      "needs_background": "light"
     },
     "output_type": "display_data"
    }
   ],
   "source": [
    "final_prediction([[6.17,224.23,22.76,70.31],[5.86,197.45,18.78,74.03],[5.35,234.96,22.83,72.3]])"
   ]
  },
  {
   "cell_type": "code",
   "execution_count": 241,
   "id": "838fb0ee",
   "metadata": {},
   "outputs": [
    {
     "data": {
      "image/png": "[encoded data removed]",
      "text/plain": [
       "<Figure size 432x288 with 3 Axes>"
      ]
     },
     "metadata": {
      "needs_background": "light"
     },
     "output_type": "display_data"
    }
   ],
   "source": [
    "\n",
    "final_prediction([[6.17,224.23,22.76,70.31],[3.85,256.8,8.3,95.4],[5.35,234.96,22.83,72.3]])"
   ]
  },
  {
   "cell_type": "code",
   "execution_count": 242,
   "id": "de46ba39",
   "metadata": {},
   "outputs": [
    {
     "data": {
      "text/plain": [
       "array([0, 1, 2])"
      ]
     },
     "execution_count": 242,
     "metadata": {},
     "output_type": "execute_result"
    }
   ],
   "source": [
    "kmeans.fit_predict([[6.17,224.23,22.76,70.31],[3.85,256.8,8.3,95.4],[5.35,234.96,22.83,72.3]])"
   ]
  },
  {
   "cell_type": "code",
   "execution_count": 266,
   "id": "eba07f28",
   "metadata": {},
   "outputs": [],
   "source": [
    "test_df=test[(test['Date']=='2/2014')|(test['Date']=='2/2019')|(test['Date']=='8/2005')|(test['Date']=='11/2016')\n",
    "                    |(test['Date']=='12/1990')|(test['Date']=='12/1993')|(test['Date']=='12/1995')\n",
    "                    |(test['Date']=='12/1998')|(test['Date']=='12/2000')|(test['Date']=='12/2006')\n",
    "                    |(test['Date']=='12/2008')|(test['Date']=='12/2011')]"
   ]
  },
  {
   "cell_type": "code",
   "execution_count": 312,
   "id": "9d948a30",
   "metadata": {},
   "outputs": [
    {
     "data": {
      "text/html": [
       "<div>\n",
       "<style scoped>\n",
       "    .dataframe tbody tr th:only-of-type {\n",
       "        vertical-align: middle;\n",
       "    }\n",
       "\n",
       "    .dataframe tbody tr th {\n",
       "        vertical-align: top;\n",
       "    }\n",
       "\n",
       "    .dataframe thead th {\n",
       "        text-align: right;\n",
       "    }\n",
       "</style>\n",
       "<table border=\"1\" class=\"dataframe\">\n",
       "  <thead>\n",
       "    <tr style=\"text-align: right;\">\n",
       "      <th></th>\n",
       "      <th>Date</th>\n",
       "      <th>Humidity</th>\n",
       "      <th>MWS@100m</th>\n",
       "      <th>SolarRadiation</th>\n",
       "      <th>Stability</th>\n",
       "      <th>Temperature</th>\n",
       "      <th>WD@100m</th>\n",
       "    </tr>\n",
       "  </thead>\n",
       "  <tbody>\n",
       "    <tr>\n",
       "      <th>0</th>\n",
       "      <td>12/1990</td>\n",
       "      <td>80.33</td>\n",
       "      <td>6.95</td>\n",
       "      <td>84.36</td>\n",
       "      <td>0.16</td>\n",
       "      <td>11.67</td>\n",
       "      <td>233.71</td>\n",
       "    </tr>\n",
       "    <tr>\n",
       "      <th>1</th>\n",
       "      <td>12/1993</td>\n",
       "      <td>77.81</td>\n",
       "      <td>6.86</td>\n",
       "      <td>85.15</td>\n",
       "      <td>0.08</td>\n",
       "      <td>13.79</td>\n",
       "      <td>266.64</td>\n",
       "    </tr>\n",
       "    <tr>\n",
       "      <th>2</th>\n",
       "      <td>12/1995</td>\n",
       "      <td>79.47</td>\n",
       "      <td>6.35</td>\n",
       "      <td>86.69</td>\n",
       "      <td>-0.13</td>\n",
       "      <td>14.99</td>\n",
       "      <td>216.03</td>\n",
       "    </tr>\n",
       "    <tr>\n",
       "      <th>3</th>\n",
       "      <td>12/1998</td>\n",
       "      <td>76.69</td>\n",
       "      <td>6.63</td>\n",
       "      <td>95.78</td>\n",
       "      <td>0.08</td>\n",
       "      <td>12.58</td>\n",
       "      <td>228.16</td>\n",
       "    </tr>\n",
       "    <tr>\n",
       "      <th>4</th>\n",
       "      <td>12/2000</td>\n",
       "      <td>79.44</td>\n",
       "      <td>6.70</td>\n",
       "      <td>91.28</td>\n",
       "      <td>0.11</td>\n",
       "      <td>14.40</td>\n",
       "      <td>231.14</td>\n",
       "    </tr>\n",
       "    <tr>\n",
       "      <th>5</th>\n",
       "      <td>8/2005</td>\n",
       "      <td>70.97</td>\n",
       "      <td>5.72</td>\n",
       "      <td>266.08</td>\n",
       "      <td>0.19</td>\n",
       "      <td>25.88</td>\n",
       "      <td>235.53</td>\n",
       "    </tr>\n",
       "    <tr>\n",
       "      <th>6</th>\n",
       "      <td>12/2006</td>\n",
       "      <td>84.29</td>\n",
       "      <td>4.61</td>\n",
       "      <td>87.66</td>\n",
       "      <td>0.11</td>\n",
       "      <td>14.55</td>\n",
       "      <td>195.44</td>\n",
       "    </tr>\n",
       "    <tr>\n",
       "      <th>7</th>\n",
       "      <td>12/2008</td>\n",
       "      <td>79.79</td>\n",
       "      <td>6.21</td>\n",
       "      <td>89.27</td>\n",
       "      <td>0.70</td>\n",
       "      <td>12.95</td>\n",
       "      <td>235.06</td>\n",
       "    </tr>\n",
       "    <tr>\n",
       "      <th>8</th>\n",
       "      <td>12/2011</td>\n",
       "      <td>80.54</td>\n",
       "      <td>7.37</td>\n",
       "      <td>86.93</td>\n",
       "      <td>0.08</td>\n",
       "      <td>14.31</td>\n",
       "      <td>253.36</td>\n",
       "    </tr>\n",
       "    <tr>\n",
       "      <th>9</th>\n",
       "      <td>2/2014</td>\n",
       "      <td>76.67</td>\n",
       "      <td>7.27</td>\n",
       "      <td>143.74</td>\n",
       "      <td>-1.38</td>\n",
       "      <td>13.89</td>\n",
       "      <td>247.28</td>\n",
       "    </tr>\n",
       "    <tr>\n",
       "      <th>10</th>\n",
       "      <td>11/2016</td>\n",
       "      <td>79.50</td>\n",
       "      <td>5.45</td>\n",
       "      <td>111.41</td>\n",
       "      <td>0.21</td>\n",
       "      <td>17.37</td>\n",
       "      <td>188.84</td>\n",
       "    </tr>\n",
       "    <tr>\n",
       "      <th>11</th>\n",
       "      <td>2/2019</td>\n",
       "      <td>74.46</td>\n",
       "      <td>7.05</td>\n",
       "      <td>148.00</td>\n",
       "      <td>-0.06</td>\n",
       "      <td>12.13</td>\n",
       "      <td>232.08</td>\n",
       "    </tr>\n",
       "  </tbody>\n",
       "</table>\n",
       "</div>"
      ],
      "text/plain": [
       "       Date  Humidity  MWS@100m  SolarRadiation  Stability  Temperature  \\\n",
       "0   12/1990     80.33      6.95           84.36       0.16        11.67   \n",
       "1   12/1993     77.81      6.86           85.15       0.08        13.79   \n",
       "2   12/1995     79.47      6.35           86.69      -0.13        14.99   \n",
       "3   12/1998     76.69      6.63           95.78       0.08        12.58   \n",
       "4   12/2000     79.44      6.70           91.28       0.11        14.40   \n",
       "5    8/2005     70.97      5.72          266.08       0.19        25.88   \n",
       "6   12/2006     84.29      4.61           87.66       0.11        14.55   \n",
       "7   12/2008     79.79      6.21           89.27       0.70        12.95   \n",
       "8   12/2011     80.54      7.37           86.93       0.08        14.31   \n",
       "9    2/2014     76.67      7.27          143.74      -1.38        13.89   \n",
       "10  11/2016     79.50      5.45          111.41       0.21        17.37   \n",
       "11   2/2019     74.46      7.05          148.00      -0.06        12.13   \n",
       "\n",
       "    WD@100m  \n",
       "0    233.71  \n",
       "1    266.64  \n",
       "2    216.03  \n",
       "3    228.16  \n",
       "4    231.14  \n",
       "5    235.53  \n",
       "6    195.44  \n",
       "7    235.06  \n",
       "8    253.36  \n",
       "9    247.28  \n",
       "10   188.84  \n",
       "11   232.08  "
      ]
     },
     "execution_count": 312,
     "metadata": {},
     "output_type": "execute_result"
    }
   ],
   "source": [
    "test_df"
   ]
  },
  {
   "cell_type": "code",
   "execution_count": 301,
   "id": "11b0daf5",
   "metadata": {},
   "outputs": [
    {
     "data": {
      "text/plain": [
       "array([2, 0, 2, 2, 2, 2, 1, 2, 0, 0, 1, 2])"
      ]
     },
     "execution_count": 301,
     "metadata": {},
     "output_type": "execute_result"
    }
   ],
   "source": [
    "kmeans.fit_predict(test_df[[\"MWS@100m\",\"WD@100m\",\"Temperature\",\"Humidity\"]])"
   ]
  },
  {
   "cell_type": "code",
   "execution_count": 311,
   "id": "e3ad9896",
   "metadata": {},
   "outputs": [
    {
     "name": "stdout",
     "output_type": "stream",
     "text": [
      "1/1 [==============================] - 0s 211ms/step\n",
      "1/1 [==============================] - 0s 270ms/step\n",
      "1/1 [==============================] - 0s 178ms/step\n"
     ]
    },
    {
     "data": {
      "text/plain": [
       "2"
      ]
     },
     "execution_count": 311,
     "metadata": {},
     "output_type": "execute_result"
    }
   ],
   "source": [
    "images,label=load_image(code=\"test\",DIR=\"./lake_img\",folder_name=\"test\",file=\"12_2000.jpg\")\n",
    "int(full_pred_function(images,labels)[1])"
   ]
  },
  {
   "cell_type": "code",
   "execution_count": 316,
   "id": "1ff1379a",
   "metadata": {},
   "outputs": [
    {
     "name": "stdout",
     "output_type": "stream",
     "text": [
      "1/1 [==============================] - 0s 223ms/step\n",
      "1/1 [==============================] - 0s 290ms/step\n",
      "1/1 [==============================] - 0s 175ms/step\n",
      "1/1 [==============================] - 0s 232ms/step\n",
      "1/1 [==============================] - 0s 270ms/step\n",
      "1/1 [==============================] - 0s 174ms/step\n",
      "1/1 [==============================] - 0s 221ms/step\n",
      "1/1 [==============================] - 0s 272ms/step\n",
      "1/1 [==============================] - 0s 176ms/step\n",
      "1/1 [==============================] - 0s 222ms/step\n",
      "1/1 [==============================] - 0s 268ms/step\n",
      "1/1 [==============================] - 0s 172ms/step\n",
      "1/1 [==============================] - 0s 221ms/step\n",
      "1/1 [==============================] - 0s 270ms/step\n",
      "1/1 [==============================] - 0s 174ms/step\n",
      "1/1 [==============================] - 0s 227ms/step\n",
      "1/1 [==============================] - 0s 272ms/step\n",
      "1/1 [==============================] - 0s 263ms/step\n",
      "1/1 [==============================] - 0s 222ms/step\n",
      "1/1 [==============================] - 0s 271ms/step\n",
      "1/1 [==============================] - 0s 175ms/step\n",
      "1/1 [==============================] - 0s 221ms/step\n",
      "1/1 [==============================] - 0s 267ms/step\n",
      "1/1 [==============================] - 0s 176ms/step\n",
      "1/1 [==============================] - 0s 227ms/step\n",
      "1/1 [==============================] - 0s 348ms/step\n",
      "1/1 [==============================] - 0s 176ms/step\n",
      "1/1 [==============================] - 0s 231ms/step\n",
      "1/1 [==============================] - 0s 269ms/step\n",
      "1/1 [==============================] - 0s 173ms/step\n",
      "1/1 [==============================] - 0s 219ms/step\n",
      "1/1 [==============================] - 0s 269ms/step\n",
      "1/1 [==============================] - 0s 178ms/step\n",
      "1/1 [==============================] - 0s 221ms/step\n",
      "1/1 [==============================] - 0s 272ms/step\n",
      "1/1 [==============================] - 0s 177ms/step\n",
      "La probabilité que le cluster choisit ne correspond pas est de : 0.5\n"
     ]
    }
   ],
   "source": [
    "\n",
    "    error=0\n",
    "    k_pred=kmeans.fit_predict(test_df[[\"MWS@100m\",\"WD@100m\",\"Temperature\",\"Humidity\"]])\n",
    "    file_names = [file for file in os.listdir(\"./lake_img/test\")]\n",
    "    i=0\n",
    "    for file in file_names:\n",
    "        \n",
    "        images,label=load_image(code=\"test\",DIR=\"./lake_img\",folder_name=\"test\",file=file)\n",
    "        im_pred=int(full_pred_function(images,labels)[1])\n",
    "        if k_pred[i]!=im_pred :\n",
    "            error+=1\n",
    "        i+=1\n",
    "    error=error/i\n",
    "    print(\"La probabilité que le cluster choisit ne correspond pas est de :\",error)\n",
    "    \n",
    "    "
   ]
  },
  {
   "cell_type": "code",
   "execution_count": null,
   "id": "814224f4",
   "metadata": {},
   "outputs": [],
   "source": []
  }
 ],
 "metadata": {
  "kernelspec": {
   "display_name": "Python 3 (ipykernel)",
   "language": "python",
   "name": "python3"
  },
  "language_info": {
   "codemirror_mode": {
    "name": "ipython",
    "version": 3
   },
   "file_extension": ".py",
   "mimetype": "text/x-python",
   "name": "python",
   "nbconvert_exporter": "python",
   "pygments_lexer": "ipython3",
   "version": "3.10.4"
  }
 },
 "nbformat": 4,
 "nbformat_minor": 5
}
